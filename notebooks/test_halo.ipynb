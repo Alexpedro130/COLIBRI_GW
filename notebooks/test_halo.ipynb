{
 "cells": [
  {
   "cell_type": "markdown",
   "id": "6d3c35ce",
   "metadata": {},
   "source": [
    "# Test of power spectrum in the halo model\n",
    "\n",
    "This notebook computes the nonlinear power spectrum according to the original halo model (see also the notebook ``test_nonlinear``), also returning 1-halo and 2-halo terms.\n",
    "It then compares the halo model predictions against different Halofit models."
   ]
  },
  {
   "cell_type": "code",
   "execution_count": null,
   "id": "6ebf6dd8",
   "metadata": {},
   "outputs": [],
   "source": [
    "import colibri.halo as hc\n",
    "import colibri.cosmology as cc\n",
    "import numpy as np\n",
    "import matplotlib.pyplot as plt\n",
    "\n",
    "plt.rc('text', usetex=True)\n",
    "plt.rc('font', family = 'serif', size = 25)\n",
    "\n",
    "colors = ['magenta', 'darkgreen', 'darkorange']"
   ]
  },
  {
   "cell_type": "markdown",
   "id": "ee5228b6",
   "metadata": {},
   "source": [
    "### Set redshifts and scales (h/Mpc)"
   ]
  },
  {
   "cell_type": "code",
   "execution_count": null,
   "id": "13581e26",
   "metadata": {},
   "outputs": [],
   "source": [
    "zz = [0., 1., 2.]\n",
    "kk = np.logspace(-4., 1., 201)"
   ]
  },
  {
   "cell_type": "markdown",
   "id": "6ad72b7f",
   "metadata": {},
   "source": [
    "### Define a cosmology instance"
   ]
  },
  {
   "cell_type": "code",
   "execution_count": null,
   "id": "8990f0b3",
   "metadata": {},
   "outputs": [],
   "source": [
    "C = cc.cosmo()"
   ]
  },
  {
   "cell_type": "markdown",
   "id": "dd45d4b8",
   "metadata": {},
   "source": [
    "### Define a halo instance"
   ]
  },
  {
   "cell_type": "code",
   "execution_count": null,
   "id": "b544293e",
   "metadata": {},
   "outputs": [],
   "source": [
    "H = hc.halo(z = zz,               # Redshift\n",
    "            k = kk,               # Scales in h/Mpc\n",
    "            code = 'camb',        # Boltzmann code with which to compute linear P(k)\n",
    "            BAO_smearing = False, # Smooth BAO due to non-linearities\n",
    "            cosmology = C)\n"
   ]
  },
  {
   "cell_type": "markdown",
   "id": "1ee94304",
   "metadata": {},
   "source": [
    "### Load power spectrum according to the halo model"
   ]
  },
  {
   "cell_type": "code",
   "execution_count": null,
   "id": "f4c74eb4",
   "metadata": {},
   "outputs": [],
   "source": [
    "H.halo_Pk(# arguments to pass to the Sheth-Tormen mass function\n",
    "          kwargs_mass_function = {'a': 0.707, 'p': 0.3},\n",
    "          # arguments to pass to the concentration parameter c0*(M/Mstar)**(-b)\n",
    "          kwargs_concentration = {'c0': 9., 'b': 0.13})"
   ]
  },
  {
   "cell_type": "markdown",
   "id": "2ff65074",
   "metadata": {},
   "source": [
    "### Store 1-halo, 2-halo and total terms"
   ]
  },
  {
   "cell_type": "code",
   "execution_count": null,
   "id": "05b2a6e1",
   "metadata": {},
   "outputs": [],
   "source": [
    "oneh = H.Pk['matter']['1-halo']\n",
    "twoh = H.Pk['matter']['2-halo']\n",
    "tot  = H.Pk['matter']['total halo']"
   ]
  },
  {
   "cell_type": "markdown",
   "id": "a68af8e4",
   "metadata": {},
   "source": [
    "\n",
    "### Compute non-linear power spectrum with HMcode2020 for comparison"
   ]
  },
  {
   "cell_type": "code",
   "execution_count": null,
   "id": "fa245afd",
   "metadata": {},
   "outputs": [],
   "source": [
    "kcamb, pkcamb = C.camb_Pk(k = H.k, z = H.z, nonlinear = True)"
   ]
  },
  {
   "cell_type": "markdown",
   "id": "3674b75a",
   "metadata": {},
   "source": [
    "### Plot"
   ]
  },
  {
   "cell_type": "code",
   "execution_count": null,
   "id": "cf09af2b",
   "metadata": {},
   "outputs": [],
   "source": [
    "plt.figure(figsize=(12,9))\n",
    "ax1 = plt.subplot2grid((4,4), (0,0), colspan=4, rowspan=3)\n",
    "ax2 = plt.subplot2grid((4,4), (3,0), colspan=4)\n",
    "plt.setp(ax1.get_xticklabels(), visible=False)\n",
    "plt.subplots_adjust(wspace=0, hspace=0)\n",
    "\n",
    "for iz in range(len(np.atleast_1d(zz))):\n",
    "\n",
    "    # Plot lines\n",
    "    ax1.loglog(H.k, oneh[iz], 'r:', lw = 2.0)\n",
    "    ax1.loglog(H.k, twoh[iz], 'b:', lw = 2.0)\n",
    "    ax1.loglog(H.k, tot [iz],     c = colors[iz], lw = 2.0, label = '$z = %.1f$' %zz[iz])\n",
    "    ax1.loglog(kcamb, pkcamb[iz], c = colors[iz], lw = 2.0, ls = '--')\n",
    "\n",
    "    # Ratios\n",
    "    ax2.semilogx(H.k, (tot[iz]/pkcamb[iz]-1.)*100., c = colors[iz], lw = 2.0)\n",
    "    ax2.set_xlabel('$k$ $[h/\\mathrm{Mpc}]$')\n",
    "    ax2.set_ylabel(r'$\\left(\\frac{P_\\mathrm{halo}(k)}{P(k)}-1\\right) \\ [\\%]$', fontsize = 25)\n",
    "    ax2.set_xlim(H.k.min(), H.k.max())\n",
    "    ax2.set_ylim(-35., 35.)\n",
    "    ax2.grid(True)\n",
    "\n",
    "# Only for the legend\n",
    "ax1.plot(0., 0., 'r:' , label = '1 halo term')\n",
    "ax1.plot(0., 0., 'b:' , label = '2 halo term')\n",
    "ax1.plot(0., 0., 'k',   label = 'halo model')\n",
    "ax1.plot(0., 0., 'k--', label = 'HALOFIT')\t\n",
    "\n",
    "ax1.set_ylabel('$P_X(k) \\ [(\\mathrm{Mpc}/h)^3]$')\n",
    "ax1.set_xlim(H.k.min(), H.k.max())\n",
    "ax1.set_ylim(3e-2, 1e5)\n",
    "ax1.grid(True)\n",
    "\n",
    "ax1.legend(loc='lower left', ncol = 2, fontsize = 20, framealpha = 1)\n",
    "plt.show()\n"
   ]
  },
  {
   "cell_type": "code",
   "execution_count": null,
   "id": "f4cbb4ba",
   "metadata": {},
   "outputs": [],
   "source": []
  }
 ],
 "metadata": {
  "kernelspec": {
   "display_name": "Python 3 (ipykernel)",
   "language": "python",
   "name": "python3"
  },
  "language_info": {
   "codemirror_mode": {
    "name": "ipython",
    "version": 3
   },
   "file_extension": ".py",
   "mimetype": "text/x-python",
   "name": "python",
   "nbconvert_exporter": "python",
   "pygments_lexer": "ipython3",
   "version": "3.9.7"
  }
 },
 "nbformat": 4,
 "nbformat_minor": 5
}

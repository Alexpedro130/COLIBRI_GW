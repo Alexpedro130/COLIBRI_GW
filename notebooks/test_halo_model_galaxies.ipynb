{
 "cells": [
  {
   "cell_type": "markdown",
   "id": "infinite-circle",
   "metadata": {},
   "source": [
    "# Test of `galaxy` class\n",
    "\n",
    "Compute the galaxy power spectrum using the halo model and the Halo Occupation Distribution"
   ]
  },
  {
   "cell_type": "code",
   "execution_count": null,
   "id": "dense-studio",
   "metadata": {},
   "outputs": [],
   "source": [
    "import colibri.cosmology as cc\n",
    "import colibri.galaxy as gc\n",
    "import numpy as np\n",
    "import matplotlib.pyplot as plt\n",
    "\n",
    "plt.rc('text', usetex=True)\n",
    "plt.rc('font', family = 'serif', size = 25)"
   ]
  },
  {
   "cell_type": "markdown",
   "id": "toxic-bracelet",
   "metadata": {},
   "source": [
    "### Fixed settings"
   ]
  },
  {
   "cell_type": "code",
   "execution_count": null,
   "id": "copyrighted-radio",
   "metadata": {},
   "outputs": [],
   "source": [
    "multiple_redshifts = True\n",
    "colors = ['magenta', 'darkgreen', 'darkorange']\n",
    "\n",
    "# Choose redshifts\n",
    "if multiple_redshifts:\n",
    "    zz = [0., 1., 2.]\n",
    "else:\n",
    "    zz = 0.\n",
    "    zz = np.atleast_1d(zz)"
   ]
  },
  {
   "cell_type": "markdown",
   "id": "compound-arabic",
   "metadata": {},
   "source": [
    "### Cosmology instance"
   ]
  },
  {
   "cell_type": "code",
   "execution_count": null,
   "id": "supposed-storage",
   "metadata": {},
   "outputs": [],
   "source": [
    "C      = cc.cosmo()"
   ]
  },
  {
   "cell_type": "markdown",
   "id": "acceptable-hepatitis",
   "metadata": {},
   "source": [
    "### `galaxy` instance"
   ]
  },
  {
   "cell_type": "code",
   "execution_count": null,
   "id": "corresponding-observation",
   "metadata": {},
   "outputs": [],
   "source": [
    "G = gc.galaxy(z = zz,                        # Redshift\n",
    "              k = np.logspace(-4., 2., 201), # Scales in h/Mpc\n",
    "              BAO_smearing = True,           # Smooth BAO feature in non-linearities\n",
    "              cosmology = C)                 # Cosmology"
   ]
  },
  {
   "cell_type": "markdown",
   "id": "minute-likelihood",
   "metadata": {},
   "source": [
    "#### Compute the galaxy power spectrum\n",
    "\n",
    "The method has 6 arguments:\n",
    " * kind_central: name of a function (method) whose first argument is mass (in units of Msun/h) and that describes the amount of central galaxies as function of halo mass\n",
    " * kwargs_central: a dictionary containing the remaining arguments to pass to kind_central. Each arguments must be of the same length of the number of redshifts of the initialization.\n",
    " * kind_satellite: name of a function (method) whose first argument is mass (in units of Msun/h)\n",
    "   and that describes the amount of satellite galaxies as function of halo mass\n",
    " * kwargs_satellite: a dictionary containing the remaining arguments to pass to kind_satellite. Each argument must be of the same length of the number of redshifts of the initialization.\n",
    " * kwargs_mass_function: dictionary with arguments to pass to the halo mass function\n",
    " * kwargs_concentration: dictionary with arguments to pass to concentration parameter\n",
    "\n",
    "\n",
    "As an alternative, one can previously load the HOD model with the function:\n",
    "\n",
    "```\n",
    " G.load_HOD(kind_satellite, kwargs_satellite, kind_central, kwargs_central)\n",
    "```\n",
    "\n",
    " and then compute the galaxy power spectrum without specifying again the HOD\n",
    "```\n",
    " G.galaxy_Pk(kwargs_mass_function, kwargs_concentration)\n",
    "```\n",
    "\n",
    " N.B. The load_HOD method returns `self.Ncen`, `self.Nsat` and `self.Ntot = self.Ncen + self.Nsat`,\n",
    "      three arrays that tell (for each redshift) the number of galaxies in 512 mass values log-spaced\n",
    "      between `10^2` and `10^18 Msun/h`.\n",
    "\n",
    " N.B. The number of satellite galaxies is by default multiplied by the number of centrals in order to avoid having\n",
    "      a satellite galaxy with no centrals."
   ]
  },
  {
   "cell_type": "code",
   "execution_count": null,
   "id": "sexual-recall",
   "metadata": {},
   "outputs": [],
   "source": [
    "if multiple_redshifts:\n",
    "    G.galaxy_Pk(kind_satellite   = G.power_law,                 # ((M-Mcut)/M1)**alpha (when M>Mcut), ranges from 0 to infinity\n",
    "                kwargs_satellite = {'log_Mcut':[13., 12.5, 12.3], 'log_M1': [13., 13.4, 13.], 'alpha': [1., 1.5, 1.]},\n",
    "                kind_central     = G.logistic_function,         # 1/2*{1+erf[(log M - log M_min)/sigma_logM]}, ranges from 0 to 1\n",
    "                kwargs_central   = {'log_Mmin': [13., 12.4, 11.4], 'sigma_logM': [0.8, 0.5, 0.6]},\n",
    "                kwargs_mass_function = {'a': 0.707, 'p': 0.3},\n",
    "                kwargs_concentration = {'c0': 9., 'b': 0.13})\n",
    "else:\n",
    "    G.galaxy_Pk(kind_satellite   = G.power_law,\n",
    "                kwargs_satellite = {'log_Mcut':14., 'log_M1': 13., 'alpha': 1.},\n",
    "                kind_central     = G.logistic_function,\n",
    "                kwargs_central   = {'log_Mmin': 12., 'sigma_logM': 0.5},\n",
    "                kwargs_mass_function = {'a': 0.707, 'p': 0.3},\n",
    "                kwargs_concentration = {'c0': 9., 'b': 0.13})\n",
    "# Take single quantities\n",
    "pg1, pg2, pgt = G.Pk['galaxies']['real space']['1-halo'], G.Pk['galaxies']['real space']['2-halo'], G.Pk['galaxies']['real space']['total halo']"
   ]
  },
  {
   "cell_type": "markdown",
   "id": "confidential-flood",
   "metadata": {},
   "source": [
    "For comparison, compute non-linear matter power spectrum (1-halo, 2-halo, total)"
   ]
  },
  {
   "cell_type": "code",
   "execution_count": null,
   "id": "distant-catalyst",
   "metadata": {},
   "outputs": [],
   "source": [
    "G.halo_Pk()\n",
    "ph1, ph2, pht = G.Pk['matter']['1-halo'], G.Pk['matter']['2-halo'], G.Pk['matter']['total halo']"
   ]
  },
  {
   "cell_type": "markdown",
   "id": "proud-desert",
   "metadata": {},
   "source": [
    "One can also compute the galaxy bias"
   ]
  },
  {
   "cell_type": "code",
   "execution_count": null,
   "id": "fallen-comparative",
   "metadata": {},
   "outputs": [],
   "source": [
    "galaxy_bias = (pgt/pht)**.5"
   ]
  },
  {
   "cell_type": "markdown",
   "id": "macro-greene",
   "metadata": {},
   "source": [
    "### Plot"
   ]
  },
  {
   "cell_type": "code",
   "execution_count": null,
   "id": "injured-enterprise",
   "metadata": {},
   "outputs": [],
   "source": [
    "plt.figure(figsize=(20,12))\n",
    "ax1 = plt.subplot2grid((4,4), (0,0), colspan=4, rowspan=3)\n",
    "ax2 = plt.subplot2grid((4,4), (3,0), colspan=4)\n",
    "plt.setp(ax1.get_xticklabels(), visible=False)\n",
    "plt.subplots_adjust(wspace=0, hspace=0)\n",
    "for iz in range(len(np.atleast_1d(zz))):\n",
    "\n",
    "    # Plot galaxy power spectrum\n",
    "    ax1.loglog(G.k, pg1[iz], 'r:', lw = 2.0)\n",
    "    ax1.loglog(G.k, pg2[iz], 'b:', lw = 2.0)\n",
    "    ax1.loglog(G.k, pgt[iz], c = colors[iz], lw = 3.0, label = '$P_\\mathrm{galaxy}(k), z = %.1f$' %zz[iz])\n",
    "\n",
    "    # Plot power spectrum according to halo model\n",
    "    ax1.loglog(G.k, pht[iz], c = colors[iz], ls = '--' , lw = 3.0)\n",
    "\n",
    "    # Bias\n",
    "    ax2.semilogx(G.k, galaxy_bias[iz], c = colors[iz], lw = 2.0)\n",
    "\n",
    "\n",
    "ax1.plot(0., 0., c = 'k', lw = 3., ls = '--', label = '$P_\\mathrm{halo \\ model}(k)$')\n",
    "ax1.set_ylabel('$P_X(k) \\ [(\\mathrm{Mpc}/h)^3]$')\n",
    "ax1.set_xlim(G.k.min(), G.k.max())\n",
    "ax1.set_ylim(1e-2, 1e6)\n",
    "ax1.grid(True)\n",
    "\n",
    "ax2.set_xlabel('$k$ $[h/\\mathrm{Mpc}]$')\n",
    "ax2.set_ylabel('$b(k)$')\n",
    "ax2.set_xlim(G.k.min(), G.k.max())\n",
    "ax2.set_ylim(-0.5, 5.)\n",
    "ax2.grid(True)\n",
    "\n",
    "# Only for the legend\n",
    "ax1.plot(0., 0., 'r:' , label = '1 halo term')\n",
    "ax1.plot(0., 0., 'b:' , label = '2 halo term')\n",
    "\n",
    "ax1.legend(loc='lower left', ncol = 2, fontsize = 25)\n",
    "plt.show()"
   ]
  },
  {
   "cell_type": "code",
   "execution_count": null,
   "id": "robust-liquid",
   "metadata": {},
   "outputs": [],
   "source": []
  }
 ],
 "metadata": {
  "kernelspec": {
   "display_name": "Python 3",
   "language": "python",
   "name": "python3"
  },
  "language_info": {
   "codemirror_mode": {
    "name": "ipython",
    "version": 3
   },
   "file_extension": ".py",
   "mimetype": "text/x-python",
   "name": "python",
   "nbconvert_exporter": "python",
   "pygments_lexer": "ipython3",
   "version": "3.8.5"
  }
 },
 "nbformat": 4,
 "nbformat_minor": 5
}

{
 "cells": [
  {
   "cell_type": "markdown",
   "id": "4c7b488d",
   "metadata": {},
   "source": [
    "# Test galaxy power spectrum\n",
    "\n",
    "This notebook tests the ``galaxy`` module that predicts the galaxy power spectrum in real space with an HOD model."
   ]
  },
  {
   "cell_type": "code",
   "execution_count": null,
   "id": "c6198f6e",
   "metadata": {},
   "outputs": [],
   "source": [
    "import colibri.cosmology as cc\n",
    "import colibri.galaxy as gc\n",
    "import numpy as np\n",
    "import matplotlib.pyplot as plt\n",
    "\n",
    "plt.rc('text', usetex=True)\n",
    "plt.rc('font', family = 'serif', size = 25)\n",
    "\n",
    "colors = ['magenta', 'darkgreen', 'darkorange']"
   ]
  },
  {
   "cell_type": "markdown",
   "id": "4b2e40be",
   "metadata": {},
   "source": [
    "### Redshifts and scales (h/Mpc)"
   ]
  },
  {
   "cell_type": "code",
   "execution_count": null,
   "id": "c60266c9",
   "metadata": {},
   "outputs": [],
   "source": [
    "kk = np.logspace(-4., 2., 201)\n",
    "zz = [0., 1., 2.]"
   ]
  },
  {
   "cell_type": "markdown",
   "id": "597ed20d",
   "metadata": {},
   "source": [
    "### Cosmology instance"
   ]
  },
  {
   "cell_type": "code",
   "execution_count": null,
   "id": "f323abba",
   "metadata": {},
   "outputs": [],
   "source": [
    "C = cc.cosmo()"
   ]
  },
  {
   "cell_type": "markdown",
   "id": "fca2efdd",
   "metadata": {},
   "source": [
    "### Define a galaxy instance"
   ]
  },
  {
   "cell_type": "code",
   "execution_count": null,
   "id": "f01f2a22",
   "metadata": {},
   "outputs": [],
   "source": [
    "G = gc.galaxy(z = zz,              # Redshift\n",
    "              k = kk,              # Scales in h/Mpc\n",
    "              BAO_smearing = True, # Smooth BAO feature in non-linearities\n",
    "              cosmology = C)       # Cosmology"
   ]
  },
  {
   "cell_type": "markdown",
   "id": "3303774e",
   "metadata": {},
   "source": [
    "### Compute the galaxy power spectrum\n",
    "\n",
    "The method has 6 arguments:\n",
    " * ``kind_central``: name of a function (method) whose first argument is mass (in units of Msun/h) and that describes the amount of central galaxies as function of halo mass\n",
    " * ``kwargs_central``: a dictionary containing the remaining arguments to pass to kind_central. Each arguments must be of the same length of the number of redshifts of the initialization.\n",
    " * ``kind_satellite``: name of a function (method) whose first argument is mass (in units of Msun/h) and that describes the amount of satellite galaxies as function of halo mass\n",
    " * ``kwargs_satellite``: a dictionary containing the remaining arguments to pass to kind_satellite. Each arguments must be of the same length of the number of redshifts of the initialization.\n",
    " * ``kwargs_mass_function``: dictionary with arguments to pass to the halo mass function\n",
    " * ``kwargs_concentration``: dictionary with arguments to pass to concentration parameter\n",
    " \n",
    "For HOD implemented functions, try ``step_function``, ``logistic function`` for centrals, ``power_law_step``, ``power_law`` for satellites.\n",
    " \n",
    "As an alternative, one can previously load the HOD model with the function:\n",
    "```\n",
    "G.load_HOD(kind_satellite, kwargs_satellite, kind_central, kwargs_central)\n",
    "```\n",
    "\n",
    "and then compute the galaxy power spectrum without specifying again the HOD\n",
    "```\n",
    "G.galaxy_Pk(kwargs_mass_function, kwargs_concentration)\n",
    "```\n",
    "\n",
    "N.B. The load_HOD method returns ``self.Ncen``, ``self.Nsat`` and ``self.Ntot = self.Ncen + self.Nsat``, three arrays that tell (for each redshift) the number of galaxies in 512 mass values log-spaced between $10^2$ and $10^{18}$ Msun/h.\n",
    "\n",
    "N.B. The number of satellite galaxies is by default multiplied by the number of centrals in order to avoid having a satellite galaxy with no centrals."
   ]
  },
  {
   "cell_type": "code",
   "execution_count": null,
   "id": "c703c617",
   "metadata": {},
   "outputs": [],
   "source": [
    "G.galaxy_Pk(# Power law: ((M-Mcut)/M1)**alpha (when M>Mcut), ranges from 0 to infinity\n",
    "            kind_satellite   = G.power_law,\n",
    "            kwargs_satellite = {'log_Mcut': [12., 12.5, 12.3],\n",
    "                                'log_M1'  : [13., 13.4, 13.],\n",
    "                                'alpha'   : [1., 1.5, 1.]},\n",
    "            # Logistic function: 1/2*{1+erf[(logM-log M_min)/sigma_logM]}, ranges from 0 to 1\n",
    "            kind_central     = G.logistic_function, \n",
    "            kwargs_central   = {'log_Mmin'  : [13., 12.4, 11.4],\n",
    "                                'sigma_logM': [0.8, 0.5, 0.6]},\n",
    "            kwargs_mass_function = {'a': 0.707, 'p': 0.3},\n",
    "            kwargs_concentration = {'c0': 9., 'b': 0.13})\n",
    "pg1 = G.Pk['galaxies']['real space']['1-halo']\n",
    "pg2 = G.Pk['galaxies']['real space']['2-halo']\n",
    "pgt = G.Pk['galaxies']['real space']['total halo']"
   ]
  },
  {
   "cell_type": "markdown",
   "id": "464500de",
   "metadata": {},
   "source": [
    "### Compute non-linear matter power spectrum\n",
    "\n",
    "Retrieve also 1-halo term, 2-halo term and total.\n",
    "Compute galaxy bias as well, as function of scale"
   ]
  },
  {
   "cell_type": "code",
   "execution_count": null,
   "id": "db6dc8b9",
   "metadata": {},
   "outputs": [],
   "source": [
    "G.halo_Pk()\n",
    "ph1, ph2, pht = G.Pk['matter']['1-halo'], G.Pk['matter']['2-halo'], G.Pk['matter']['total halo']\n",
    "galaxy_bias = (pgt/pht)**.5"
   ]
  },
  {
   "cell_type": "markdown",
   "id": "4873b3c9",
   "metadata": {},
   "source": [
    "### Plot"
   ]
  },
  {
   "cell_type": "code",
   "execution_count": null,
   "id": "da546c43",
   "metadata": {},
   "outputs": [],
   "source": [
    "plt.figure(figsize=(12,8))\n",
    "ax1 = plt.subplot2grid((4,4), (0,0), colspan=4, rowspan=3)\n",
    "ax2 = plt.subplot2grid((4,4), (3,0), colspan=4)\n",
    "plt.setp(ax1.get_xticklabels(), visible=False)\n",
    "plt.subplots_adjust(wspace=0, hspace=0)\n",
    "for iz in range(len(np.atleast_1d(zz))):\n",
    "\n",
    "    # Plot galaxy power spectrum\n",
    "    ax1.loglog(G.k, pg1[iz], 'r:', lw = 2.0)\n",
    "    ax1.loglog(G.k, pg2[iz], 'b:', lw = 2.0)\n",
    "    ax1.loglog(G.k, pgt[iz], c = colors[iz], lw = 3.0, label = '$P_\\mathrm{galaxy}(k), z = %.1f$' %zz[iz])\n",
    "\n",
    "    # Plot power spectrum according to halo model\n",
    "    ax1.loglog(G.k, pht[iz], c = colors[iz], ls = '--' , lw = 3.0)\n",
    "\n",
    "    # Bias\n",
    "    ax2.semilogx(G.k, galaxy_bias[iz], c = colors[iz], lw = 2.0)\n",
    "\n",
    "\n",
    "ax1.plot(0., 0., c = 'k', lw = 3., ls = '--', label = '$P_\\mathrm{halo \\ model}(k)$')\n",
    "ax1.set_ylabel('$P_X(k) \\ [(\\mathrm{Mpc}/h)^3]$')\n",
    "ax1.set_xlim(G.k.min(), G.k.max())\n",
    "ax1.set_ylim(3e-2, 1e6)\n",
    "ax1.grid(True)\n",
    "\n",
    "ax2.set_xlabel('$k$ $[h/\\mathrm{Mpc}]$')\n",
    "ax2.set_ylabel('$b(k)$')\n",
    "ax2.set_xlim(G.k.min(), G.k.max())\n",
    "ax2.set_ylim(-0.5, 5.5)\n",
    "ax2.grid(True)\n",
    "\n",
    "# Only for the legend\n",
    "ax1.plot(0., 0., 'r:' , label = '1 halo term')\n",
    "ax1.plot(0., 0., 'b:' , label = '2 halo term')\n",
    "\n",
    "ax1.legend(loc='lower left', ncol = 2, fontsize = 20)\n",
    "plt.show()"
   ]
  },
  {
   "cell_type": "code",
   "execution_count": null,
   "id": "dec82b82",
   "metadata": {},
   "outputs": [],
   "source": []
  }
 ],
 "metadata": {
  "kernelspec": {
   "display_name": "Python 3 (ipykernel)",
   "language": "python",
   "name": "python3"
  },
  "language_info": {
   "codemirror_mode": {
    "name": "ipython",
    "version": 3
   },
   "file_extension": ".py",
   "mimetype": "text/x-python",
   "name": "python",
   "nbconvert_exporter": "python",
   "pygments_lexer": "ipython3",
   "version": "3.9.7"
  }
 },
 "nbformat": 4,
 "nbformat_minor": 5
}

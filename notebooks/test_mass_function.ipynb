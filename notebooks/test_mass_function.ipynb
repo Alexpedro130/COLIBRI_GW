{
 "cells": [
  {
   "cell_type": "markdown",
   "id": "4298f189",
   "metadata": {},
   "source": [
    "# Test mass function\n",
    "\n",
    "This notebook tests the ``cosmo`` class and its routines for the computation of the halo mass function"
   ]
  },
  {
   "cell_type": "code",
   "execution_count": null,
   "id": "ab8be48f",
   "metadata": {},
   "outputs": [],
   "source": [
    "import numpy as np\n",
    "import colibri.cosmology as cc\n",
    "import matplotlib.pyplot as plt\n",
    "\n",
    "plt.rc('text',usetex=True)\n",
    "plt.rc('font',size=15,family='serif')\n",
    "\n",
    "colors = ['r','b','g','y','m','c','k']"
   ]
  },
  {
   "cell_type": "markdown",
   "id": "ba7e7179",
   "metadata": {},
   "source": [
    "### Pre-define arrays of scales (h/Mpc), redshifts and masses (Msun/h)"
   ]
  },
  {
   "cell_type": "code",
   "execution_count": null,
   "id": "3db74276",
   "metadata": {},
   "outputs": [],
   "source": [
    "zz   = np.linspace(0., 5., 6)\n",
    "kk   = np.logspace(-3.,2.,501)\n",
    "logM = np.arange(7.1,16.,0.1)\n",
    "nz, nk, nm = len(np.atleast_1d(zz)), len(np.atleast_1d(kk)), len(np.atleast_1d(logM))"
   ]
  },
  {
   "cell_type": "markdown",
   "id": "fe6ee62b",
   "metadata": {},
   "source": [
    "### Define a ``cosmo`` instance with default parameters"
   ]
  },
  {
   "cell_type": "code",
   "execution_count": null,
   "id": "3213b42b",
   "metadata": {},
   "outputs": [],
   "source": [
    "C=cc.cosmo()"
   ]
  },
  {
   "cell_type": "markdown",
   "id": "772a8520",
   "metadata": {},
   "source": [
    "### Load linear power spectra at requested scales and redshifts"
   ]
  },
  {
   "cell_type": "code",
   "execution_count": null,
   "id": "b255808e",
   "metadata": {},
   "outputs": [],
   "source": [
    "k,pk=C.camb_Pk(k=kk,z=zz)"
   ]
  },
  {
   "cell_type": "markdown",
   "id": "7e30907a",
   "metadata": {},
   "source": [
    "### Compute mass variance in spheres\n",
    "\n",
    "It computes the following quantity\n",
    "\n",
    "$$\n",
    "\\sigma^2 (M) = \\int_0^\\infty \\frac{\\mathrm{d}k \\ k^2}{2\\pi^2} P_\\mathrm{lin}(k) W^2\\left[kR(M)\\right],\n",
    "$$\n",
    "\n",
    "where the window function is set to top-hat by default. Check the documentation to se how to change the window function as well as the field with respect to which the radius-mass relation is computed.\n",
    "If one wants to use radii instead of masses, it is sufficient to run\n",
    "```\n",
    " M = C.masses_in_radius(R)\n",
    " logM = np.log10(M)\n",
    "```"
   ]
  },
  {
   "cell_type": "code",
   "execution_count": null,
   "id": "1e3ce73b",
   "metadata": {},
   "outputs": [],
   "source": [
    "sigma_squared = C.mass_variance(logM = logM, k = k, pk = pk)"
   ]
  },
  {
   "cell_type": "markdown",
   "id": "24ec2d54",
   "metadata": {},
   "source": [
    "### Peak height\n",
    "Peak-background split quantity, i.e. $ \\nu = \\delta_c/\\sigma(M) $, where $\\delta_c\\approx1.686$ is the linear overdensity for collapse"
   ]
  },
  {
   "cell_type": "code",
   "execution_count": null,
   "id": "1a6f282e",
   "metadata": {},
   "outputs": [],
   "source": [
    "nu_peak = C.peak_height(logM = logM, k = k, pk = pk)"
   ]
  },
  {
   "cell_type": "markdown",
   "id": "1605b31d",
   "metadata": {},
   "source": [
    "### Sheth-Tormen universal function\n",
    "\n",
    "Sheth-Tormen mass function (takes $\\sigma(M)$, previously computed, as argument). Even if its results are functions of $\\sigma$, we plot it as function of mass."
   ]
  },
  {
   "cell_type": "code",
   "execution_count": null,
   "id": "b9c93641",
   "metadata": {},
   "outputs": [],
   "source": [
    "ShethTormen = C.ShethTormen_mass_function(sigma = sigma_squared**0.5, a = 0.707, p = 0.3)"
   ]
  },
  {
   "cell_type": "markdown",
   "id": "c5e54ea0",
   "metadata": {},
   "source": [
    "# Halo mass function\n",
    "\n",
    "Actually, if one is interested in the mass function only, one can skip all the passages above and use the following line.\n",
    "We use the Sheth-Tormen mass function. If ``'mass_fun' == 'Tinker'`` or ``'MICE'``, one should add ``'z=zz'`` to the arguments of the function."
   ]
  },
  {
   "cell_type": "code",
   "execution_count": null,
   "id": "a63f7889",
   "metadata": {},
   "outputs": [],
   "source": [
    "HMF = C.halo_mass_function(logM = logM, k = k, pk = pk, window = 'th', mass_fun = 'ShethTormen')"
   ]
  },
  {
   "cell_type": "markdown",
   "id": "9b54924b",
   "metadata": {},
   "source": [
    "### Plot"
   ]
  },
  {
   "cell_type": "code",
   "execution_count": null,
   "id": "4faf536b",
   "metadata": {},
   "outputs": [],
   "source": [
    "fig, ax = plt.subplots(2,2,figsize=(12,12),sharex=True)\n",
    "L,R,T,B=0.13,0.96,0.96,0.13\n",
    "plt.subplots_adjust(left=L,right=R,top=T,bottom=B,wspace=0.25,hspace=0.)\n",
    "\n",
    "\n",
    "for iz in range(nz):\n",
    "    # Plot mass variance\n",
    "    ax[0,0].loglog(10.**logM,sigma_squared[iz],c=colors[iz],label='$z=%i$' %(zz[iz]))\n",
    "\n",
    "    # Plot peak height\n",
    "    ax[0,1].loglog(10.**logM,nu_peak[iz],c=colors[iz])\n",
    "\n",
    "    # Plot Sheth-Tormen\n",
    "    ax[1,0].loglog(10.**logM,ShethTormen[iz],c=colors[iz])\n",
    "    ax[1,0].set_ylim(1e-5,1e0)\n",
    "\n",
    "    # Plot halo mass function\n",
    "    ax[1,1].loglog(10.**logM,10.**logM*HMF[iz],c=colors[iz])\n",
    "    ax[1,1].set_ylim(1e-12,1e3)\n",
    "\n",
    "    # x limits\n",
    "    ax[0,0].set_xlim(10.**logM.min(),10.**logM.max())\n",
    "\n",
    "# Labels\n",
    "for a in [0,1]:\n",
    "    ax[1,a].set_xlabel('$M \\ [M_\\odot/h]$')\n",
    "ax[0,0].set_ylabel('$\\sigma^2(M)$')\n",
    "ax[0,1].set_ylabel('$\\\\nu(M)=\\\\frac{\\delta_c}{\\sigma(M)}$')\n",
    "ax[1,0].set_ylabel('$\\\\nu \\ f_\\mathrm{ST}(\\\\nu)$')\n",
    "ax[1,1].set_ylabel('$M \\\\frac{\\mathrm{d}n}{\\mathrm{d}M} \\ [h^3 \\mathrm{Mpc}^{-3}]$')\n",
    "\n",
    "# Legend and plot\n",
    "ax[0,0].legend(loc='upper right',fontsize=12, ncol=2)\n",
    "plt.show()"
   ]
  },
  {
   "cell_type": "code",
   "execution_count": null,
   "id": "defb39e5",
   "metadata": {},
   "outputs": [],
   "source": []
  }
 ],
 "metadata": {
  "kernelspec": {
   "display_name": "Python 3 (ipykernel)",
   "language": "python",
   "name": "python3"
  },
  "language_info": {
   "codemirror_mode": {
    "name": "ipython",
    "version": 3
   },
   "file_extension": ".py",
   "mimetype": "text/x-python",
   "name": "python",
   "nbconvert_exporter": "python",
   "pygments_lexer": "ipython3",
   "version": "3.9.7"
  }
 },
 "nbformat": 4,
 "nbformat_minor": 5
}

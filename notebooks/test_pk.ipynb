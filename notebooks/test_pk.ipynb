{
 "cells": [
  {
   "cell_type": "markdown",
   "id": "4b138487",
   "metadata": {},
   "source": [
    "\n",
    "# Test of power spectra\n",
    "This routine uses the 'cosmo' instance and computes power spectra with different Boltzmann codes.\n",
    "\n",
    "N.B. Linear and non-linear spectra (as well as different Halofit versions) are plotted together, so do not compare them."
   ]
  },
  {
   "cell_type": "code",
   "execution_count": null,
   "id": "cf7484de",
   "metadata": {},
   "outputs": [],
   "source": [
    "import numpy as np\n",
    "import colibri.cosmology as cc"
   ]
  },
  {
   "cell_type": "code",
   "execution_count": null,
   "id": "c85d81cd",
   "metadata": {},
   "outputs": [],
   "source": [
    "# Cosmology instance (default constructor with default parameters)\n",
    "C  = cc.cosmo()"
   ]
  },
  {
   "cell_type": "code",
   "execution_count": null,
   "id": "7b0c3fa8",
   "metadata": {},
   "outputs": [],
   "source": [
    "# Main settings\n",
    "multiple_redshifts = True  # Sets if one wants a single redshift or many (see below which ones)\n",
    "nonlinear          = False # Boolean for non-linear power spectra\n",
    "\n",
    "print(\"------------------------------\")\n",
    "print(\"COMPUTING MATTER POWER SPECTRA\")\n",
    "print(\"------------------------------\")\n",
    "print(\"mutliple redshifts : %s\" %multiple_redshifts)\n",
    "print(\"nonlinear          : %s\" %nonlinear)\n",
    "print(\"------------------------------\")"
   ]
  },
  {
   "cell_type": "code",
   "execution_count": null,
   "id": "612ed9a6",
   "metadata": {},
   "outputs": [],
   "source": [
    "# Redshifts\n",
    "if multiple_redshifts: z = np.linspace(0., 5., 6)\n",
    "else:                  z = 0.\n",
    "z = np.atleast_1d(z)\n",
    "string_redshifts = ', '.join(str(x) for x in z) \n",
    "\n",
    "# Scales in h/Mpc\n",
    "k = np.logspace(-4., 2., 1001)"
   ]
  },
  {
   "cell_type": "code",
   "execution_count": null,
   "id": "4c3ee18a",
   "metadata": {},
   "outputs": [],
   "source": [
    "# Compute power spectrum with CAMB\n",
    "k_camb, pk_camb = C.camb_Pk(z = z,                   # Redshifts\n",
    "                            k = k,                   # Scales\n",
    "                            nonlinear = nonlinear,   # do nonlinear (as set above)\n",
    "                            halofit = 'mead',        # use HMcode2016 if asked for nonlinear\n",
    "                            var_1 = 'tot',           # Use total matter field for 1st variable\n",
    "                            var_2 = 'tot')           # Use total matter field for 2nd variable\n",
    "print(\">> Done CAMB\")\n",
    "\n",
    "# Compute power spectrum with CAMB using cross spectra as a proxy\n",
    "k_xcamb, pk_xcamb = C.camb_XPk(z = z,\n",
    "                               k = k,\n",
    "                               nonlinear = nonlinear,\n",
    "                               halofit = 'mead',     # use HMcode2016 if asked for nonlinear\n",
    "                               var_1 = ['tot'],\n",
    "                               var_2 = ['tot'])\n",
    "print(\">> Done XCAMB\")\n",
    "\n",
    "# Compute power spectrum with Class\n",
    "k_class, pk_class = C.class_Pk(z = z,                    # Redshifts\n",
    "                               k = k,                    # Scales\n",
    "                               nonlinear = nonlinear)    # do nonlinear (as set above)\n",
    "print(\">> Done CLASS\")\n",
    "\n",
    "# Compute power spectrum with Eisenstein-Hu formula (only linear, only for LCDM)\n",
    "k_eh, pk_eh = C.EisensteinHu_Pk(z = z,              # Redshifts\n",
    "                                k = k,              # Scales\n",
    "                                sigma_8 = 0.831)    # normalization (As cannot be used here)\n",
    "print(\">> Done Eisenstein-Hu\")\n",
    "\n",
    "# Compute power spectrum with Eisenstein-Hu formula (without wiggles)\n",
    "k_eh_nw, pk_eh_nw = C.EisensteinHu_nowiggle_Pk(z = z,              # Redshifts\n",
    "                                               k = k,              # Scales\n",
    "                                               sigma_8 = 0.831)    # normalization (As cannot be used here)\n",
    "print(\">> Done Eisenstein-Hu no wiggles\")"
   ]
  },
  {
   "cell_type": "code",
   "execution_count": null,
   "id": "92a4079e",
   "metadata": {},
   "outputs": [],
   "source": [
    "# Plot\n",
    "import matplotlib.pyplot as plt\n",
    "plt.rc('text', usetex=True)\n",
    "plt.rc('font', family = 'serif', size = 25)\n",
    "\n",
    "fig, ax = plt.subplots(2,1,sharex = True, figsize=(12,9))\n",
    "plt.subplots_adjust(hspace = 0., wspace = 0.)\n",
    "for i in range(len(np.atleast_1d(z))):\n",
    "    ax[0].loglog(k_camb,  pk_camb[i],             'b',   lw = 3.0)\n",
    "    ax[0].loglog(k_xcamb, pk_xcamb['tot-tot'][i], 'r-.', lw = 3.0)\n",
    "    ax[0].loglog(k_class, pk_class[i],            'g--', lw = 3.0)\n",
    "    ax[0].loglog(k_eh,    pk_eh[i],               'k:',  lw = 3.0)\n",
    "    ax[0].loglog(k_eh_nw, pk_eh_nw[i],            'm:',  lw = 3.0)\n",
    "ax[0].plot(0., 0., 'b',   lw = 3.0, label = 'CAMB')\n",
    "ax[0].plot(0., 0., 'r-.', lw = 3.0, label = 'XCAMB')\n",
    "ax[0].plot(0., 0., 'g--', lw = 3.0, label = 'CLASS')\n",
    "ax[0].plot(0., 0., 'k:',  lw = 3.0, label = 'EH')\n",
    "ax[0].plot(0., 0., 'm:',  lw = 3.0, label = 'EH no wiggle')\n",
    "ax[0].legend(loc = 'lower left', fontsize = 16, ncol = 5)\n",
    "ax[0].set_xlim(k.min(), k.max())\n",
    "ax[0].set_ylabel('$P(k)$ $[(\\mathrm{Mpc}/h)^3]$')\n",
    "ax[0].text(0.98, 0.8, '$z =$ %s' %string_redshifts, ha='right', transform = ax[0].transAxes, bbox = dict(boxstyle='round', facecolor='white', alpha = 1.0))\n",
    "ax[0].grid(True)\n",
    "\n",
    "# Plot ratios\n",
    "for i in range(len(np.atleast_1d(z))):\n",
    "    ax[1].semilogx(k, (pk_xcamb['tot-tot'][i]/pk_camb[i]-1.)*100., 'r-.', lw = 3.0)\n",
    "    ax[1].semilogx(k, (pk_class[i]           /pk_camb[i]-1.)*100., 'g--', lw = 3.0)\n",
    "    ax[1].semilogx(k, (pk_eh[i]              /pk_camb[i]-1.)*100., 'k:',  lw = 3.0)\n",
    "    ax[1].semilogx(k, (pk_eh_nw[i]           /pk_camb[i]-1.)*100., 'm:',  lw = 3.0)\n",
    "ax[1].set_xlim(k.min(), k.max())\n",
    "ax[1].set_ylim(-5.5, 5.5)\n",
    "ax[1].set_xlabel('$k$ $[h/\\mathrm{Mpc}]$')\n",
    "ax[1].set_ylabel('$\\\\frac{\\Delta P(k)}{P_\\mathrm{camb}(k)} \\ (\\%)$')\n",
    "ax[1].grid(True)\n",
    "plt.show()"
   ]
  },
  {
   "cell_type": "code",
   "execution_count": null,
   "id": "9aa49ce0",
   "metadata": {},
   "outputs": [],
   "source": []
  }
 ],
 "metadata": {
  "kernelspec": {
   "display_name": "Python 3 (ipykernel)",
   "language": "python",
   "name": "python3"
  },
  "language_info": {
   "codemirror_mode": {
    "name": "ipython",
    "version": 3
   },
   "file_extension": ".py",
   "mimetype": "text/x-python",
   "name": "python",
   "nbconvert_exporter": "python",
   "pygments_lexer": "ipython3",
   "version": "3.9.7"
  }
 },
 "nbformat": 4,
 "nbformat_minor": 5
}

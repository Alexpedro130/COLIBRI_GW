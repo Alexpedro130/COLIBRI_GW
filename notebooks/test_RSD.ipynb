{
 "cells": [
  {
   "cell_type": "code",
   "execution_count": null,
   "id": "1f296cba",
   "metadata": {},
   "outputs": [],
   "source": [
    "import colibri.cosmology as cc\n",
    "import colibri.RSD as rsd\n",
    "import colibri.constants\n",
    "import numpy as np\n",
    "import matplotlib.pyplot as plt\n",
    "from matplotlib.colors import LogNorm\n",
    "import matplotlib.gridspec as gridspec\n",
    "\n",
    "\n",
    "plt.rc('text', usetex=True)\n",
    "plt.rc('font', family = 'serif', size = 18)\n",
    "\n",
    "# Colors for different multipoles\n",
    "colors = ['b', 'r', 'g', 'y', 'k', 'c']\n"
   ]
  },
  {
   "cell_type": "markdown",
   "id": "af280199",
   "metadata": {},
   "source": [
    "### Redshifts, scales (h/Mpc), angles, multipoles to compute"
   ]
  },
  {
   "cell_type": "code",
   "execution_count": null,
   "id": "9be20406",
   "metadata": {},
   "outputs": [],
   "source": [
    "zz = np.array([0., 1., 2.])\n",
    "# for polar coordinates power spectrum\n",
    "kk = np.geomspace(0.0005, 10., 201)\n",
    "mu = np.linspace(0., 1., 31)\n",
    "# for Cartesian coordinates power spectrum\n",
    "kpar  = np.linspace(0.01, 1., 51)\n",
    "kperp = np.linspace(0.01, 1., 31)\n",
    "# List of multipoles (monopole, quadrupole, hexadecapole)\n",
    "multipoles = [0, 2, 4]"
   ]
  },
  {
   "cell_type": "markdown",
   "id": "83077e2d",
   "metadata": {},
   "source": [
    "### Choose RSD model\n",
    "\n",
    " * 'linear'     (use linear power spectrum)\n",
    " * 'nonlinear'  (use nonlinear power spectrum with Halofit)\n",
    " * 'HOD'        (use HOD for the real space galaxy power spectrum)\n",
    " * 'halo model' (use halo model directly in redshift-space)"
   ]
  },
  {
   "cell_type": "code",
   "execution_count": null,
   "id": "a7bb0e4d",
   "metadata": {},
   "outputs": [],
   "source": [
    "RSD_model = 'nonlinear'"
   ]
  },
  {
   "cell_type": "markdown",
   "id": "ca30831a",
   "metadata": {},
   "source": [
    "### Cosmology instance"
   ]
  },
  {
   "cell_type": "code",
   "execution_count": null,
   "id": "53dd630d",
   "metadata": {},
   "outputs": [],
   "source": [
    "C = cc.cosmo()"
   ]
  },
  {
   "cell_type": "markdown",
   "id": "70c4be29",
   "metadata": {},
   "source": [
    "### RSD instance"
   ]
  },
  {
   "cell_type": "code",
   "execution_count": null,
   "id": "d44406a0",
   "metadata": {},
   "outputs": [],
   "source": [
    "Z = rsd.RSD(z            = zz,    # Redshift\n",
    "            k            = kk,    # Scales in h/Mpc\n",
    "            mu           = mu,    # Cosine of angles with LOS\n",
    "            k_par        = kpar,  # Scales parallel in h/Mpc\n",
    "            k_perp       = kperp, # Scales perpendicular in h/Mpc\n",
    "            BAO_smearing = True,  # Smooth BAO feature in non-linearities\n",
    "            cosmology    = C)     # Cosmology\n",
    "\n",
    "# 2D tables of scales and angles\n",
    "K, MU         = np.meshgrid(Z.k, Z.mu, indexing = 'ij')\n",
    "K_PAR, K_PERP = np.meshgrid(Z.k_par, Z.k_perp, indexing = 'ij')"
   ]
  },
  {
   "cell_type": "markdown",
   "id": "8c3685d9",
   "metadata": {},
   "source": [
    "### Assign biases, velocities, growth factors, damping functions"
   ]
  },
  {
   "cell_type": "code",
   "execution_count": null,
   "id": "143cb5ae",
   "metadata": {},
   "outputs": [],
   "source": [
    "# Galaxy bias\n",
    "bb = [1.30, 2.60, 3.34]\n",
    "# Growth rates\n",
    "ff = C.Omega_m_z(zz)**0.55\n",
    "# Velocity dispersions (in km/s)\n",
    "sv = [200., 200., 200.]\n",
    "# Functions for HOD (central and satellites)\n",
    "HOD_central_kind, HOD_satellite_kind = Z.logistic_function, Z.power_law\n",
    "# Parameters for HOD\n",
    "HOD_central_parameters   = {'log_Mmin': [12., 12.5, 12.],\n",
    "                            'sigma_logM': [0.8, 0.5, 0.2]}\n",
    "HOD_satellite_parameters = {'log_Mcut': [13., 12.5, 12.],\n",
    "                            'log_M1': [14., 13.2, 13.4],\n",
    "                            'alpha': [1., 1.25, 1.5]}\n",
    "# Fingers-of-God, choose between 'Lorentzian' and 'Gaussian'\n",
    "FoG_damping = 'Lorentzian'"
   ]
  },
  {
   "cell_type": "markdown",
   "id": "a7ff57a2",
   "metadata": {},
   "source": [
    "### Galaxy power spectrum in redshift-space: polar coordinates"
   ]
  },
  {
   "cell_type": "code",
   "execution_count": null,
   "id": "f5afae75",
   "metadata": {},
   "outputs": [],
   "source": [
    "Z.galaxy_RSD_Pk(bias                 = bb,                       # Galaxy bias (used only if model = 'HOD' or 'halo model')\n",
    "                growth_rate          = ff,                       # Growth rate f = dln(D)/dln(a)\n",
    "                velocity_dispersion  = sv,                       # Average velocity dispersion of galaxies in halos\n",
    "                model                = RSD_model,                # Model to compute RSD\n",
    "                kwargs_mass_function = {'a': 0.707, 'p': 0.3},   # Parameters to compute halo mass function (used only if model = 'HOD' or 'halo model')\n",
    "                kwargs_concentration = {'c0': 9., 'b': 0.13},    # Parameters to compute concentration parameter (used only if model = 'HOD' or 'halo model')\n",
    "                fingers_of_god       = FoG_damping,              # Kind of damping ('Lorentzian' or 'Gaussian', used only if model != 'halo model')\n",
    "                kind_central         = HOD_central_kind,         # Function to compute central galaxies (1st arguments must be mass in Msun/h)\n",
    "                kwargs_central       = HOD_central_parameters,   # Remaining arguments to pass to kind_central\n",
    "                kind_satellite       = HOD_satellite_kind,       # Function to compute satellite galaxies (1st arguments must be mass in Msun/h)\n",
    "                kwargs_satellite     = HOD_satellite_parameters) # Remaining arguments to pass to kind_satellite\n",
    "\n",
    "Pk_k_mu = Z.Pk['galaxies']['redshift space']['k-mu']"
   ]
  },
  {
   "cell_type": "markdown",
   "id": "60f551ff",
   "metadata": {},
   "source": [
    "### Galaxy power spectrum in redshift-space: multipoles"
   ]
  },
  {
   "cell_type": "code",
   "execution_count": null,
   "id": "7c6b7b11",
   "metadata": {},
   "outputs": [],
   "source": [
    "Z.galaxy_RSD_Pk_multipoles(l                    = multipoles,               # Multipoles to compute\n",
    "                           bias                 = bb,                       # Galaxy bias (used only if 'HOD' or 'halo model')\n",
    "                           growth_rate          = ff,                       # Growth rate f = dln(D)/dln(a)\n",
    "                           velocity_dispersion  = sv,                       # Average velocity dispersion of galaxies in halos\n",
    "                           model                = RSD_model,                # Model to compute RSD\n",
    "                           kwargs_mass_function = {'a': 0.707, 'p': 0.3},   # Parameters to compute halo mass function (used only if 'HOD' or 'halo model')\n",
    "                           kwargs_concentration = {'c0': 9., 'b': 0.13},    # Parameters to compute concentration parameter (used only if 'HOD' or 'halo model')\n",
    "                           fingers_of_god       = FoG_damping,              # Kind of damping (used only if not 'halo model')\n",
    "                           kind_central         = HOD_central_kind,         # Function to compute central galaxies (1st arguments must be mass in Msun/h)\n",
    "                           kwargs_central       = HOD_central_parameters,   # Remaining arguments to pass to kind_central\n",
    "                           kind_satellite       = HOD_satellite_kind,       # Function to compute satellite galaxies (1st arguments must be mass in Msun/h)\n",
    "                           kwargs_satellite     = HOD_satellite_parameters) # Remaining arguments to pass to kind_satellite"
   ]
  },
  {
   "cell_type": "markdown",
   "id": "ceca418e",
   "metadata": {},
   "source": [
    "### Galaxy power spectrum in redshift-space: Cartesian coordinates"
   ]
  },
  {
   "cell_type": "code",
   "execution_count": null,
   "id": "ed04f959",
   "metadata": {},
   "outputs": [],
   "source": [
    "Z.galaxy_RSD_Pk_2D(bias                 = bb,                       # Galaxy bias (used only if 'HOD' or 'halo model')\n",
    "                   growth_rate          = ff,                       # Growth rate f = dln(D)/dln(a)\n",
    "                   velocity_dispersion  = sv,                       # Average velocity dispersion of galaxies in halos\n",
    "                   model                = RSD_model,                # Model to compute RSD\n",
    "                   kwargs_mass_function = {'a': 0.707, 'p': 0.3},   # Parameters to compute halo mass function (used only if 'HOD' or 'halo model')\n",
    "                   kwargs_concentration = {'c0': 9., 'b': 0.13},    # Parameters to compute concentration parameter (used only if 'HOD' or 'halo model')\n",
    "                   fingers_of_god       = FoG_damping,              # Kind of damping (used only if not 'halo model')\n",
    "                   kind_central         = HOD_central_kind,         # Function to compute central galaxies (1st arguments must be mass in Msun/h)\n",
    "                   kwargs_central       = HOD_central_parameters,   # Remaining arguments to pass to kind_central\n",
    "                   kind_satellite       = HOD_satellite_kind,       # Function to compute satellite galaxies (1st arguments must be mass in Msun/h)\n",
    "                   kwargs_satellite     = HOD_satellite_parameters) # Remaining arguments to pass to kind_satellite\n",
    "Pk_k_par_k_perp = Z.Pk['galaxies']['redshift space']['k_par-k_perp']"
   ]
  },
  {
   "cell_type": "markdown",
   "id": "dce79346",
   "metadata": {},
   "source": [
    "### Plot"
   ]
  },
  {
   "cell_type": "code",
   "execution_count": null,
   "id": "198c547e",
   "metadata": {},
   "outputs": [],
   "source": [
    "#---------------------\n",
    "# Initialize grid for plots\n",
    "#---------------------\n",
    "fig = plt.figure(figsize = (16,16))\n",
    "G   = gridspec.GridSpec(3,len(zz)+1, width_ratios = [1. for i in range(len(zz))]+[0.2], figure = fig, wspace = 0.05, hspace = 0.4)\n",
    "fig.suptitle(\"Redshift-space galaxy power spectrum, model: %s\" %RSD_model, fontsize = 20, bbox = dict(boxstyle='round', facecolor='white', alpha = 1.0))\n",
    "#---------------------\n",
    "\n",
    "#---------------------\n",
    "# Plotting (k, mu) space\n",
    "#---------------------\n",
    "for iz in range(len(zz)+1):\n",
    "    ax = fig.add_subplot(G[0, iz])\n",
    "    # Colorbar\n",
    "    if iz == len(zz):\n",
    "        ax.axis('off')\n",
    "        cbar = fig.colorbar(CF, ax=ax, shrink = 1., fraction = 0.3)\n",
    "        cbar.set_label('$P_g^{(s)}(k, \\\\mu)$')\n",
    "    else:\n",
    "        # Title\n",
    "        ax.set_title('$z=%.1f$' %zz[iz], bbox = dict(boxstyle='round', facecolor='white', alpha = 1.0), fontsize = 14, pad = 15)\n",
    "        # Contour lines\n",
    "        CS = ax.contour(np.log10(K), MU, Pk_k_mu[iz],\n",
    "                        norm = LogNorm(),\n",
    "                        colors = 'k',\n",
    "                        levels = [10,100,1000,10000,50000],\n",
    "                        )\n",
    "        ax.clabel(CS, fmt = '%.0f', fontsize = 10)\n",
    "\n",
    "        # Color map\n",
    "        CF = ax.imshow(np.transpose(Pk_k_mu[iz]), \n",
    "                       cmap = 'rainbow',\n",
    "                       aspect = 'auto',\n",
    "                       #vmin = 1e1, vmax = 1e5,\n",
    "                       norm = LogNorm(), \n",
    "                       interpolation = 'bicubic', \n",
    "                       origin = 'lower', \n",
    "                       extent = (np.log10(Z.k.min()), np.log10(Z.k.max()), Z.mu.min(), Z.mu.max()))        \n",
    "\n",
    "        # Axis settings\n",
    "        ax.set_xlabel('$k$ \\ ($h/\\mathrm{Mpc}$)')\n",
    "        if iz == 0:\n",
    "            ax.set_ylabel('$\\\\mu$')\n",
    "        else:\n",
    "            ax.set_yticks([])\n",
    "        ax.set_xticks([-3., -2., -1., 0., 1.])\n",
    "        ax.set_xticklabels(['$10^{-3}$','$10^{-2}$','$10^{-1}$','$10^0$','$10^1$'])\n",
    "#---------------------\n",
    "\n",
    "#---------------------\n",
    "# Plotting multipole space\n",
    "#---------------------\n",
    "for iz in range(len(zz)):\n",
    "    ax = fig.add_subplot(G[1, iz])\n",
    "    # Colorbar\n",
    "    if iz == len(zz):\n",
    "        ax.axis('off')\n",
    "    else:\n",
    "        for il in range(len(np.atleast_1d(multipoles))):\n",
    "            # Plot multipole\n",
    "            pole = Z.Pk['galaxies']['redshift space']['multipoles'][str(multipoles[il])]\n",
    "            ax.loglog(Z.k[np.where(pole[iz]>=0.)],  pole[iz][np.where(pole[iz]>=0.)], c = colors[il], ls = '-',  lw = 2.0, label = '$\\ell = %i$' %multipoles[il])\n",
    "            ax.loglog(Z.k[np.where(pole[iz]<=0.)], -pole[iz][np.where(pole[iz]<=0.)], c = colors[il], ls = '--', lw = 2.0)\n",
    "            if RSD_model != 'halo model':\n",
    "                if multipoles[il] == 0:\n",
    "                    ax.loglog(Z.k, Z.Pk['matter']['linear'][iz]*(bb[iz]**2. + 2./3.*ff[iz]*bb[iz] + ff[iz]**2./5.) ,'b:', markersize = 2, lw = 2.0)\n",
    "                elif multipoles[il] == 2:\n",
    "                    ax.loglog(Z.k, Z.Pk['matter']['linear'][iz]*(4./3.*ff[iz]*bb[iz] + ff[iz]**2.*4./7.) , 'r:', markersize = 2, lw = 2.0)\n",
    "                elif multipoles[il] == 4:\n",
    "                    ax.loglog(Z.k, Z.Pk['matter']['linear'][iz]*(8.*ff[iz]**2./35.) , 'g:', markersize = 2, lw = 2.0)\n",
    "        if RSD_model != 'halo model':\n",
    "            ax.loglog(1., 1., 'k:', markersize = 2, lw = 2.0, label = 'Kaiser effect')\n",
    "        ax.legend(fontsize = 12)\n",
    "        # Axis settings\n",
    "        ax.set_xlim(Z.k.min(), Z.k.max())\n",
    "        ax.set_ylim(1e1, 1e6)\n",
    "        ax.set_xticks([1e-3, 1e-2, 1e-1, 1e0, 1e1])\n",
    "        ax.set_xticklabels(['$10^{-3}$','$10^{-2}$','$10^{-1}$','$10^0$','$10^1$'])\n",
    "        ax.set_xlabel('$k$ \\ ($h/\\mathrm{Mpc}$)')\n",
    "        if iz == 0:\n",
    "            ax.set_ylabel('$P_g^{(\\ell)}(k) \\ [(\\mathrm{Mpc}/h)^3]$')\n",
    "        else:\n",
    "            ax.set_yticks([])\n",
    "\n",
    "#---------------------\n",
    "# Plotting (k_par, k_perp) space\n",
    "#---------------------\n",
    "for iz in range(len(zz)+1):\n",
    "    ax = fig.add_subplot(G[2, iz])\n",
    "    # Colorbar\n",
    "    if iz == len(zz):\n",
    "        ax.axis('off')\n",
    "        cbar = fig.colorbar(CF, ax = ax, shrink = 1., fraction = 0.3)\n",
    "        cbar.set_label('$P_g^{(s)}(k_\\parallel, k_\\perp)$')\n",
    "    else:\n",
    "        # Contour lines\n",
    "        CS = ax.contour(K_PERP, K_PAR,\n",
    "                        Pk_k_par_k_perp[iz],\n",
    "                        levels = [10,50,100,500,1000,5000,10000],\n",
    "                        norm = LogNorm(),\n",
    "                        colors = 'k'\n",
    "                        )\n",
    "        ax.clabel(CS, fmt = '%.0f', fontsize = 10)\n",
    "\n",
    "        # Color map\n",
    "        CF = ax.imshow(Pk_k_par_k_perp[iz], \n",
    "                       cmap = 'rainbow',\n",
    "                       aspect = 'auto',\n",
    "                       #vmin = 1e1, vmax = 1e5,\n",
    "                       norm = LogNorm(), \n",
    "                       interpolation = 'bicubic', \n",
    "                       origin = 'lower', \n",
    "                       extent = (Z.k_perp.min(), Z.k_perp.max(),Z.k_par.min(), Z.k_par.max()))\n",
    "\n",
    "        # Axis settings\n",
    "        ax.set_xlabel('$k_\\perp$ \\ ($h/\\mathrm{Mpc}$)')\n",
    "        labels = np.linspace(0.2,1.,5)\n",
    "        ax.set_xticks(labels)\n",
    "        ax.set_xticklabels([str(\"%.1f\") %i for i in labels])\n",
    "        if iz == 0: ax.set_ylabel('$k_\\parallel$ \\ ($h/\\mathrm{Mpc}$)')\n",
    "        else:       ax.set_yticks([])"
   ]
  },
  {
   "cell_type": "code",
   "execution_count": null,
   "id": "cbfff3d6",
   "metadata": {},
   "outputs": [],
   "source": []
  }
 ],
 "metadata": {
  "kernelspec": {
   "display_name": "Python 3 (ipykernel)",
   "language": "python",
   "name": "python3"
  },
  "language_info": {
   "codemirror_mode": {
    "name": "ipython",
    "version": 3
   },
   "file_extension": ".py",
   "mimetype": "text/x-python",
   "name": "python",
   "nbconvert_exporter": "python",
   "pygments_lexer": "ipython3",
   "version": "3.9.7"
  }
 },
 "nbformat": 4,
 "nbformat_minor": 5
}

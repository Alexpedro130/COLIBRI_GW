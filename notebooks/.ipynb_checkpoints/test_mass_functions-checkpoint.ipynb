{
 "cells": [
  {
   "cell_type": "markdown",
   "id": "informed-notion",
   "metadata": {},
   "source": [
    "# Test of halo mass functions\n",
    "\n",
    "We compute here the halo mass function with `COLIBRI`, together with some useful quantities related to the peak-background split."
   ]
  },
  {
   "cell_type": "code",
   "execution_count": null,
   "id": "satisfied-offense",
   "metadata": {},
   "outputs": [],
   "source": [
    "import numpy as np\n",
    "import colibri.cosmology as cc\n",
    "import matplotlib.pyplot as plt\n",
    "\n",
    "plt.rc('text',usetex=True)\n",
    "plt.rc('font',size=15,family='serif')\n",
    "colors = ['r','b','g','y','m','c','k']"
   ]
  },
  {
   "cell_type": "markdown",
   "id": "dated-prototype",
   "metadata": {},
   "source": [
    "### Cosmology\n",
    "\n",
    "Instance"
   ]
  },
  {
   "cell_type": "code",
   "execution_count": null,
   "id": "dietary-isaac",
   "metadata": {},
   "outputs": [],
   "source": [
    "C=cc.cosmo()"
   ]
  },
  {
   "cell_type": "markdown",
   "id": "agricultural-awareness",
   "metadata": {},
   "source": [
    "Redshifts, scales and masses"
   ]
  },
  {
   "cell_type": "code",
   "execution_count": null,
   "id": "ethical-process",
   "metadata": {},
   "outputs": [],
   "source": [
    "zz   = np.linspace(0., 5., 6)    # Redshifts\n",
    "kk   = np.logspace(-4.,2.,1001)  # Scales in h/Mpc\n",
    "logM = np.linspace(5.,16.,111)   # Masses in log-space in solar masses\n",
    "nz, nk, nm = len(np.atleast_1d(zz)), len(np.atleast_1d(kk)), len(np.atleast_1d(logM))\n"
   ]
  },
  {
   "cell_type": "markdown",
   "id": "rough-guarantee",
   "metadata": {},
   "source": [
    "Load linear power spectra"
   ]
  },
  {
   "cell_type": "code",
   "execution_count": null,
   "id": "anonymous-capital",
   "metadata": {},
   "outputs": [],
   "source": [
    "k,pk=C.camb_Pk(z=zz)"
   ]
  },
  {
   "cell_type": "markdown",
   "id": "serial-defensive",
   "metadata": {},
   "source": [
    "### Mass variance in spheres\n",
    "\n",
    "Routine to compute mass variance in sphere of different masses.\n",
    "If one wants to use radii instead of masses, it is sufficient to run another line\n",
    "\n",
    "```\n",
    " M = C.masses_in_radius(R); logM = np.log10(M)\n",
    "```"
   ]
  },
  {
   "cell_type": "code",
   "execution_count": null,
   "id": "greater-lodge",
   "metadata": {},
   "outputs": [],
   "source": [
    "sigma_squared = C.mass_variance(logM = logM, k = k, pk = pk)"
   ]
  },
  {
   "cell_type": "markdown",
   "id": "liquid-mouth",
   "metadata": {},
   "source": [
    "### Peak height\n",
    "\n",
    "Peak-background split quantity, i.e. `nu = delta_c/sigma(M)`, where `delta_c=1.686` is the linear overdensity for collapse"
   ]
  },
  {
   "cell_type": "code",
   "execution_count": null,
   "id": "deadly-classification",
   "metadata": {},
   "outputs": [],
   "source": [
    "nu_peak = C.peak_height(logM = logM, k = k, pk = pk)"
   ]
  },
  {
   "cell_type": "markdown",
   "id": "classical-implementation",
   "metadata": {},
   "source": [
    "### Sheth-Tormen universal function\n",
    "\n",
    "`ShethTormen_mass_function` (takes sigma(M), previously computed, as argument).\n",
    "Even if it returns things as function of sigma, we plot it as function of mass.\n",
    "Other available functions are `MICE_mass_function`, `PressSchechter_mass_function`, `Despali_mass_function`."
   ]
  },
  {
   "cell_type": "code",
   "execution_count": null,
   "id": "narrative-genome",
   "metadata": {},
   "outputs": [],
   "source": [
    "ShethTormen = C.ShethTormen_mass_function(sigma = sigma_squared**0.5, a = 0.707, p = 0.3)"
   ]
  },
  {
   "cell_type": "markdown",
   "id": "fatal-thesis",
   "metadata": {},
   "source": [
    "### Halo mass function\n",
    "\n",
    "We use the Sheth-Tormen mass function.\n",
    "If `'mass_fun' == 'Tinker'` or `'MICE'`, you should add `z=zz` to the arguments of the function.\n",
    "If interested in the void size function only, one can just run this line."
   ]
  },
  {
   "cell_type": "code",
   "execution_count": null,
   "id": "defined-intervention",
   "metadata": {},
   "outputs": [],
   "source": [
    "HMF = C.halo_mass_function(logM = logM, k = k, pk = pk, window = 'th', mass_fun = 'ShethTormen')"
   ]
  },
  {
   "cell_type": "code",
   "execution_count": null,
   "id": "municipal-mercy",
   "metadata": {},
   "outputs": [],
   "source": [
    "### Plot"
   ]
  },
  {
   "cell_type": "code",
   "execution_count": null,
   "id": "expired-geneva",
   "metadata": {},
   "outputs": [],
   "source": [
    "fig, ax = plt.subplots(2,2,figsize=(10,10),sharex=True)\n",
    "L,R,T,B=0.13,0.96,0.96,0.13\n",
    "plt.subplots_adjust(left=L,right=R,top=T,bottom=B,wspace=0.3,hspace=0.)\n",
    "\n",
    "\n",
    "for iz in range(nz):\n",
    "    # Plot mass variance\n",
    "    ax[0,0].loglog(10.**logM,sigma_squared[iz],c=colors[iz],label='$z=%i$' %(zz[iz]))\n",
    "\n",
    "    # Plot peak height\n",
    "    ax[0,1].loglog(10.**logM,nu_peak[iz],c=colors[iz])\n",
    "\n",
    "    # Plot Sheth-Tormen\n",
    "    ax[1,0].loglog(10.**logM,ShethTormen[iz],c=colors[iz])\n",
    "    ax[1,0].set_ylim(1e-5,1e0)\n",
    "\n",
    "    # Plot halo mass function\n",
    "    ax[1,1].loglog(10.**logM,10.**logM*HMF[iz],c=colors[iz])\n",
    "    ax[1,1].set_ylim(1e-12,1e3)\n",
    "\n",
    "    # x limits\n",
    "    ax[0,0].set_xlim(10.**logM.min(),10.**logM.max())\n",
    "\n",
    "# Labels\n",
    "for a in [0,1]:\n",
    "    ax[1,a].set_xlabel('$M \\ [M_\\odot]$')\n",
    "ax[0,0].set_ylabel('$\\sigma^2(M)$')\n",
    "ax[0,1].set_ylabel('$\\\\nu(M)=\\\\frac{\\delta_c}{\\sigma(M)}$')\n",
    "ax[1,0].set_ylabel('$\\\\nu \\ f_\\mathrm{ST}(\\\\nu)$')\n",
    "ax[1,1].set_ylabel('$M \\\\frac{\\mathrm{d}n}{\\mathrm{d}M} \\ [h^3 \\mathrm{Mpc}^{-3}]$')\n",
    "\n",
    "# Legend and plot\n",
    "ax[0,0].legend(loc='upper right',fontsize=12, ncol=2)\n",
    "plt.show()"
   ]
  },
  {
   "cell_type": "code",
   "execution_count": null,
   "id": "funky-warning",
   "metadata": {},
   "outputs": [],
   "source": []
  }
 ],
 "metadata": {
  "kernelspec": {
   "display_name": "Python 3",
   "language": "python",
   "name": "python3"
  },
  "language_info": {
   "codemirror_mode": {
    "name": "ipython",
    "version": 3
   },
   "file_extension": ".py",
   "mimetype": "text/x-python",
   "name": "python",
   "nbconvert_exporter": "python",
   "pygments_lexer": "ipython3",
   "version": "3.8.5"
  }
 },
 "nbformat": 4,
 "nbformat_minor": 5
}

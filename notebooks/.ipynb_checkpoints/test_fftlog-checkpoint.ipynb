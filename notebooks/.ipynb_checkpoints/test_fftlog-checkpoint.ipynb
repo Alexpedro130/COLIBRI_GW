{
 "cells": [
  {
   "cell_type": "markdown",
   "id": "technological-parade",
   "metadata": {},
   "source": [
    "# Test `fftlog` in `fourier` module\n",
    "\n",
    "Compute the two-point correlation function from the power spectrum.\n",
    "This routine computes the linear power spectrum, inverse Fourier transforms it and then goes back to Fourier space to check both the correlation function and the goodness of the inversion."
   ]
  },
  {
   "cell_type": "code",
   "execution_count": null,
   "id": "exposed-playback",
   "metadata": {},
   "outputs": [],
   "source": [
    "import colibri.cosmology as cc\n",
    "import numpy as np\n",
    "import colibri.fourier as FF\n",
    "import colibri.useful_functions as UF\n",
    "import matplotlib.pyplot as plt\n",
    "\n",
    "plt.rc('text', usetex = True)\n",
    "plt.rc('font', family = 'serif', size = 30)"
   ]
  },
  {
   "cell_type": "markdown",
   "id": "romantic-object",
   "metadata": {},
   "source": [
    "### Cosmology instance"
   ]
  },
  {
   "cell_type": "code",
   "execution_count": null,
   "id": "legitimate-radar",
   "metadata": {},
   "outputs": [],
   "source": [
    "C = cc.cosmo()"
   ]
  },
  {
   "cell_type": "markdown",
   "id": "painful-hepatitis",
   "metadata": {},
   "source": [
    "### Compute linear power spectrum (extend it to smaller and larger scales)"
   ]
  },
  {
   "cell_type": "code",
   "execution_count": null,
   "id": "operational-insurance",
   "metadata": {},
   "outputs": [],
   "source": [
    "# Compute linear power spectrum with camb\n",
    "k, pk = C.camb_Pk(z = 0, k = np.logspace(-4., 2.5, 1001))\n",
    "pk = pk[0]\n",
    "# Extrapolate a power law at low- and high-ends\n",
    "k, pk = UF.extrapolate_log(k, pk, xmin = 1e-10, xmax = 1e6)"
   ]
  },
  {
   "cell_type": "markdown",
   "id": "complicated-beijing",
   "metadata": {},
   "source": [
    "### Fast Fourier Transform"
   ]
  },
  {
   "cell_type": "code",
   "execution_count": null,
   "id": "formal-patrick",
   "metadata": {},
   "outputs": [],
   "source": [
    "# Compute 2-point correlation function\n",
    "r,xi = FF.iFFT_iso_3D(k, pk)"
   ]
  },
  {
   "cell_type": "code",
   "execution_count": null,
   "id": "expired-vulnerability",
   "metadata": {},
   "outputs": [],
   "source": [
    "# Go back to Fourier space through FFTlog\n",
    "k_fft, pk_fft = FF.FFT_iso_3D(r, xi)"
   ]
  },
  {
   "cell_type": "markdown",
   "id": "primary-sterling",
   "metadata": {},
   "source": [
    "### Plot"
   ]
  },
  {
   "cell_type": "code",
   "execution_count": null,
   "id": "preceding-application",
   "metadata": {},
   "outputs": [],
   "source": [
    "plt.figure(figsize = (15,15))\n",
    "plt.loglog(k,     pk,     '--', label = 'camb')\n",
    "plt.loglog(k_fft, pk_fft, '-',  label = 'double FFT')\n",
    "plt.xlabel('$k \\ [h/\\mathrm{Mpc}]$', fontsize = 30)\n",
    "plt.ylabel('$P(k) \\ [(\\mathrm{Mpc}/h)^3]$', fontsize = 30)\n",
    "plt.legend()\n",
    "plt.show()"
   ]
  },
  {
   "cell_type": "code",
   "execution_count": null,
   "id": "compatible-worth",
   "metadata": {},
   "outputs": [],
   "source": []
  }
 ],
 "metadata": {
  "kernelspec": {
   "display_name": "Python 3",
   "language": "python",
   "name": "python3"
  },
  "language_info": {
   "codemirror_mode": {
    "name": "ipython",
    "version": 3
   },
   "file_extension": ".py",
   "mimetype": "text/x-python",
   "name": "python",
   "nbconvert_exporter": "python",
   "pygments_lexer": "ipython3",
   "version": "3.8.5"
  }
 },
 "nbformat": 4,
 "nbformat_minor": 5
}

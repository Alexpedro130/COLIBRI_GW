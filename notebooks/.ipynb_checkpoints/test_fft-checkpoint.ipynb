{
 "cells": [
  {
   "cell_type": "markdown",
   "id": "toxic-newport",
   "metadata": {},
   "source": [
    "# Test of FFT\n",
    "\n",
    "This notebook uses the methods of the file `fourier` to test routines for 1D, 2D, 3D FFTs and their inverses."
   ]
  },
  {
   "cell_type": "code",
   "execution_count": null,
   "id": "veterinary-newton",
   "metadata": {},
   "outputs": [],
   "source": [
    "import numpy as np\n",
    "import scipy\n",
    "import colibri.fourier as FF\n",
    "import matplotlib.pyplot as plt\n",
    "import matplotlib.colors as colors\n",
    "plt.rc('text', usetex=True)\n",
    "plt.rc('font', family = 'serif', size = 30)\n",
    "\n",
    "FS = 40"
   ]
  },
  {
   "cell_type": "markdown",
   "id": "ready-precipitation",
   "metadata": {},
   "source": [
    "### FFT 1D\n",
    "#### Direct: Gaussian --> Gaussian"
   ]
  },
  {
   "cell_type": "code",
   "execution_count": null,
   "id": "simple-bridges",
   "metadata": {},
   "outputs": [],
   "source": [
    "# x, f(x) arrays\n",
    "x = np.linspace(-10., 10., 100001)\n",
    "y = np.exp(-x**2.)\n",
    "\n",
    "# do FFT, set frequencies and normalize all\n",
    "xf, yf = FF.FFT_1D(x,y)\n",
    "\n",
    "# plot theory vs computation\n",
    "plt.figure(figsize = (30,15))\n",
    "plt.title('1D Gaussian $\\\\rightarrow$ 1D Gaussian')\n",
    "plt.plot(x,  np.sqrt(np.pi)*np.exp(-x**2./4.), 'r--',         label = 'theory')\n",
    "plt.plot(xf, yf,                               'bo',  ms = 5, label = 'computation')\n",
    "plt.xlabel('$k$')\n",
    "plt.ylabel('$f_k$')\n",
    "plt.xlim(-10.,10.)\n",
    "plt.legend()\n",
    "plt.show()"
   ]
  },
  {
   "cell_type": "markdown",
   "id": "minus-mayor",
   "metadata": {},
   "source": [
    "#### Direct: Lorentzian --> Exponential"
   ]
  },
  {
   "cell_type": "code",
   "execution_count": null,
   "id": "atlantic-furniture",
   "metadata": {},
   "outputs": [],
   "source": [
    "# x, f(x) arrays\n",
    "x = np.linspace(-10., 10., 100001)\n",
    "y = 1./(1.+x**2.)\n",
    "\n",
    "# do FFT, set frequencies and normalize all\n",
    "xf, yf = FF.FFT_1D(x,y)\n",
    "\n",
    "# plot theory vs computation\n",
    "plt.figure(figsize = (30,15))\n",
    "plt.title('Lorentzian $\\\\rightarrow$ Exponential')\n",
    "plt.plot(x,  np.pi*np.exp(-np.abs(x)), 'r--',         label = 'theory')\n",
    "plt.plot(xf, yf,                       'bo',  ms = 5, label = 'computation')\n",
    "plt.xlabel('$k$')\n",
    "plt.ylabel('$f_k$')\n",
    "plt.xlim(-2.,2.)\n",
    "plt.legend()\n",
    "plt.show()"
   ]
  },
  {
   "cell_type": "markdown",
   "id": "prostate-strap",
   "metadata": {},
   "source": [
    "#### Direct: Sine --> Delta"
   ]
  },
  {
   "cell_type": "code",
   "execution_count": null,
   "id": "exempt-birth",
   "metadata": {},
   "outputs": [],
   "source": [
    "# x, f(x) arrays\n",
    "x    = np.linspace(0., 100., 100001)\n",
    "peak = 20.                          # Set frequency of oscillation\n",
    "y    = np.sin(peak*x)\n",
    "\n",
    "\n",
    "# do FFT, set frequencies and normalize all\n",
    "xf, yf = FF.FFT_1D(x,y)\n",
    "\n",
    "# plot theory vs computation\n",
    "plt.figure(figsize = (30,15))\n",
    "plt.title('Sine $\\\\rightarrow$ Dirac Delta')\n",
    "plt.axvline(peak, c='r', ls = '--', label = 'theory')\n",
    "plt.plot(xf, yf, 'bo', ms = 5, label = 'computation')\n",
    "plt.xlabel('$k$')\n",
    "plt.ylabel('$f_k$')\n",
    "plt.xlim(0,100)\n",
    "plt.legend()\n",
    "plt.show()"
   ]
  },
  {
   "cell_type": "markdown",
   "id": "married-belle",
   "metadata": {},
   "source": [
    "#### Direct and inverse FT 1D"
   ]
  },
  {
   "cell_type": "code",
   "execution_count": null,
   "id": "sacred-lawrence",
   "metadata": {},
   "outputs": [],
   "source": [
    "# x, f(x) arrays with length and step to set FFT normalization\n",
    "x = np.linspace(-10., 10., 100001)\n",
    "y = 1./(1.+x**2.)\n",
    "\n",
    "# do FFT, set frequencies and normalize all\n",
    "xf, yf = FF.FFT_1D(x,y)\n",
    "\n",
    "# go back\n",
    "x2, y2 = FF.iFFT_1D(xf,np.abs(yf))\n",
    "\n",
    "# plot theory vs computation\n",
    "plt.figure(figsize = (30,15))\n",
    "plt.title('Lorentzian, back and forth')\n",
    "plt.plot(x,  y,  'r--',        label = 'initial')\n",
    "plt.plot(x2, y2, 'bo', ms = 5, label = 'final')\n",
    "plt.xlabel('$x$')\n",
    "plt.ylabel('$f(x)$')\n",
    "plt.xlim(-2.,2.)\n",
    "plt.legend()\n",
    "plt.show()"
   ]
  },
  {
   "cell_type": "markdown",
   "id": "boolean-market",
   "metadata": {},
   "source": [
    "### FFT 2D\n",
    "#### Direct: Gaussian x Lorentzian --> Gaussian x exponential"
   ]
  },
  {
   "cell_type": "code",
   "execution_count": null,
   "id": "occasional-tomato",
   "metadata": {},
   "outputs": [],
   "source": [
    "# Define 2D Gaussian\n",
    "x = np.linspace(-5., 5., 26)\n",
    "y = np.linspace(-5., 5., 21)\n",
    "X,Y = np.meshgrid(x,y)\n",
    "F_G = np.exp(-X**2.)*1./(1.+Y**2.)\n",
    "\n",
    "\n",
    "# Do FFT\n",
    "kx, ky, fft_G = FF.FFT_2D(x, y, F_G)\n",
    "\n",
    "# Theory\n",
    "KX,KY  = np.meshgrid(kx,ky)\n",
    "FFT_TH = np.sqrt(np.pi)*np.exp(-KX**2./4.)*np.pi*np.exp(-np.abs(KY))\n",
    "\n",
    "plt.figure(figsize = (30,15))\n",
    "plt.title('Gaussian $\\\\times$ Lorentzian $\\\\rightarrow$ Gaussian $\\\\times$ exponential')\n",
    "plt.contourf(kx, ky, fft_G.T, cmap = 'Greys_r', extent=(np.amin(kx), np.amax(kx), np.amin(ky), np.amax(ky)))\n",
    "#plt.contourf(kx, ky, FFT_TH, cmap = 'Greys_r', extent=(np.amin(kx), np.amax(kx), np.amin(ky), np.amax(ky)))\n",
    "plt.xlabel('$k_x$')\n",
    "plt.ylabel('$k_y$')\n",
    "plt.axvline(0., c='r', ls = '--')\n",
    "plt.axhline(0., c='r', ls = '--')\n",
    "cax = plt.colorbar()\n",
    "cax.ax.tick_params(labelsize=FS) \n",
    "plt.show()"
   ]
  },
  {
   "cell_type": "markdown",
   "id": "dirty-alpha",
   "metadata": {},
   "source": [
    "#### Inverted: rectangular window --> 2D Sampling function"
   ]
  },
  {
   "cell_type": "code",
   "execution_count": null,
   "id": "judicial-recognition",
   "metadata": {},
   "outputs": [],
   "source": [
    "# Define window\n",
    "x = np.linspace(-10., 10., 1001)\n",
    "y = np.linspace(-10., 10., 1001)\n",
    "X,Y = np.meshgrid(x,y)\n",
    "F_W = 1./(X**10.+8)**2./(Y**10.+8)**2.\n",
    "\n",
    "# Do FFT\n",
    "kx, ky, fft_W = FF.iFFT_2D(x, y, F_W)\n",
    "\n",
    "plt.figure(figsize = (30,15))\n",
    "plt.title('Square window $\\\\rightarrow$ Sampling function')\n",
    "plt.contourf(kx, ky, fft_W, cmap = 'Greys_r', extent=(np.amin(kx), np.amax(kx), np.amin(ky), np.amax(ky)))\n",
    "plt.xlim(-10., 10.)\n",
    "plt.ylim(-10., 10.)\n",
    "plt.xlabel('$k_x$')\n",
    "plt.ylabel('$k_y$')\n",
    "cax = plt.colorbar()\n",
    "cax.ax.tick_params(labelsize=FS) \n",
    "plt.show()"
   ]
  },
  {
   "cell_type": "markdown",
   "id": "frozen-priest",
   "metadata": {},
   "source": [
    "### FFT 3D\n",
    "#### Direct: Gaussian x exponential x Lorentzian"
   ]
  },
  {
   "cell_type": "code",
   "execution_count": null,
   "id": "useful-parcel",
   "metadata": {},
   "outputs": [],
   "source": [
    "# Define 3D Gaussian\n",
    "x = np.linspace(-10., 10., 104)\n",
    "y = np.linspace(-10., 10., 106)\n",
    "z = np.linspace(-10., 10., 108)\n",
    "X,Y,Z = np.meshgrid(x,y,z)\n",
    "F_G = np.exp(-X**2.)*np.exp(-np.abs(Y))*1./(1.+Z**2.)\n",
    "\n",
    "#print(F_G.shape)\n",
    "# Do FFT\n",
    "kx, ky, kz, fft_G = FF.FFT_3D(x, y, z, F_G)\n",
    "\n",
    "\n",
    "KX,KY,KZ = np.meshgrid(kx,ky,kz, indexing = 'ij')\n",
    "FFT_TH = np.pi**0.5*np.exp(-KX**2./4.)*2./(1.+KY**2.)*np.pi*np.exp(-np.abs(KZ))\n",
    "\n",
    "\n",
    "ind_x = np.linspace(1,len(x)-1,7).astype(int)[1:-1]\n",
    "ind_y = np.linspace(1,len(y)-1,7).astype(int)[1:-1]\n",
    "\n",
    "\n",
    "plt.figure(figsize=(25,25))\n",
    "index = 0\n",
    "for ix in ind_x:\n",
    "    for iy in ind_y:\n",
    "        index +=1\n",
    "        plt.subplot(len(ind_x), len(ind_y), index)\n",
    "        plt.plot(kz, fft_G[ix,iy], 'bo')\n",
    "        plt.plot(kz, FFT_TH[ix,iy], 'r--')\n",
    "        plt.xticks(fontsize = 12)\n",
    "        plt.yticks(fontsize = 12)\n",
    "plt.show()"
   ]
  },
  {
   "cell_type": "markdown",
   "id": "pretty-tokyo",
   "metadata": {},
   "source": [
    "#### Inverted: Gaussian x exponential x Lorentzian"
   ]
  },
  {
   "cell_type": "code",
   "execution_count": null,
   "id": "asian-construction",
   "metadata": {},
   "outputs": [],
   "source": [
    "# Define 3D Gaussian\n",
    "x = np.linspace(-10., 10., 104)\n",
    "y = np.linspace(-10., 10., 106)\n",
    "z = np.linspace(-10., 10., 108)\n",
    "X,Y,Z = np.meshgrid(x,y,z)\n",
    "F_G = np.exp(-X**2.)*np.exp(-np.abs(Y))*1./(1.+Z**2.)\n",
    "\n",
    "# Do FFT\n",
    "kx, ky, kz, fft_G = FF.iFFT_3D(x, y, z, F_G)\n",
    "\n",
    "\n",
    "KX,KY,KZ = np.meshgrid(kx,ky,kz, indexing = 'ij')\n",
    "FFT_TH = np.pi**0.5*np.exp(-KX**2./4.)*2./(1.+KY**2.)*np.pi*np.exp(-np.abs(KZ))/(2.*np.pi)**3.\n",
    "\n",
    "\n",
    "ind_x = np.linspace(1,len(x)-1,7).astype(int)[1:-1]\n",
    "ind_y = np.linspace(1,len(y)-1,7).astype(int)[1:-1]\n",
    "\n",
    "\n",
    "\n",
    "plt.figure(figsize=(25,25))\n",
    "index = 0\n",
    "for ix in ind_x:\n",
    "    for iy in ind_y:\n",
    "        index +=1\n",
    "        plt.subplot(len(ind_x), len(ind_y), index)\n",
    "        #plt.title('$x=%.1f, y=%.1f$' %(kx[ix],ky[iy]), fontsize = 15)\n",
    "        plt.plot(kz, fft_G[ix,iy], 'bo')\n",
    "        plt.plot(kz, FFT_TH[ix,iy], 'r--')\n",
    "        plt.xticks(fontsize = 12)\n",
    "        plt.yticks(fontsize = 12)\n",
    "plt.show()"
   ]
  }
 ],
 "metadata": {
  "kernelspec": {
   "display_name": "Python 3",
   "language": "python",
   "name": "python3"
  },
  "language_info": {
   "codemirror_mode": {
    "name": "ipython",
    "version": 3
   },
   "file_extension": ".py",
   "mimetype": "text/x-python",
   "name": "python",
   "nbconvert_exporter": "python",
   "pygments_lexer": "ipython3",
   "version": "3.8.5"
  }
 },
 "nbformat": 4,
 "nbformat_minor": 5
}

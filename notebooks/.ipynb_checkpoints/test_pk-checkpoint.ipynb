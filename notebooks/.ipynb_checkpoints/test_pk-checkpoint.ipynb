{
 "cells": [
  {
   "cell_type": "markdown",
   "id": "informed-notion",
   "metadata": {},
   "source": [
    "# Test of matter power spectra"
   ]
  },
  {
   "cell_type": "code",
   "execution_count": null,
   "id": "satisfied-offense",
   "metadata": {},
   "outputs": [],
   "source": [
    "import numpy as np\n",
    "import colibri.cosmology as cc"
   ]
  },
  {
   "cell_type": "markdown",
   "id": "assured-booth",
   "metadata": {},
   "source": [
    "### Initialize cosmology instance"
   ]
  },
  {
   "cell_type": "code",
   "execution_count": null,
   "id": "separated-package",
   "metadata": {},
   "outputs": [],
   "source": [
    "C = cc.cosmo()"
   ]
  },
  {
   "cell_type": "markdown",
   "id": "competitive-support",
   "metadata": {},
   "source": [
    "#### Redhisfts and scales"
   ]
  },
  {
   "cell_type": "code",
   "execution_count": null,
   "id": "interracial-protest",
   "metadata": {},
   "outputs": [],
   "source": [
    "# Main settings\n",
    "multiple_redshifts = True   # Sets if one wants a single redshift or many (see below which ones)\n",
    "nonlinear          = False  # Boolean for non-linear power spectra\n",
    "print(\"------------------------------\")\n",
    "print(\"COMPUTING MATTER POWER SPECTRA\")\n",
    "print(\"------------------------------\")\n",
    "print(\"mutliple redshifts : %s\" %multiple_redshifts)\n",
    "print(\"nonlinear          : %s\" %nonlinear)\n",
    "print(\"------------------------------\")\n",
    "\n",
    "# Redshifts\n",
    "if multiple_redshifts:\n",
    "    z = np.linspace(0., 5., 6)\n",
    "else:\n",
    "    z = np.array([0.])\n",
    "\n",
    "# Text (for later)\n",
    "string_redshifts = ''\n",
    "for i in range(len(z)):\n",
    "    string_redshifts += str(i)+', '\n",
    "string_redshifts = string_redshifts[:-2]\n",
    "\n",
    "# Scales in h/Mpc\n",
    "k = np.logspace(-4., 2., 1001)"
   ]
  },
  {
   "cell_type": "markdown",
   "id": "modern-florence",
   "metadata": {},
   "source": [
    "## Power spectra\n",
    "#### with CAMB"
   ]
  },
  {
   "cell_type": "code",
   "execution_count": null,
   "id": "located-trunk",
   "metadata": {},
   "outputs": [],
   "source": [
    "k_camb, pk_camb = C.camb_Pk(z = z,                   # Redshifts\n",
    "                            k = k,                   # Scales\n",
    "                            nonlinear = nonlinear,   # do nonlinear (as set above)\n",
    "                            halofit = 'mead',        # use Mead et al. Halofit operator\n",
    "                            var_1 = 'tot',           # Use total matter field for 1st variable\n",
    "                            var_2 = 'tot')           # Use total matter field for 2nd variable\n",
    "print(\">> Done CAMB\")"
   ]
  },
  {
   "cell_type": "markdown",
   "id": "urban-anaheim",
   "metadata": {},
   "source": [
    "#### with XCAMB"
   ]
  },
  {
   "cell_type": "code",
   "execution_count": null,
   "id": "biological-peeing",
   "metadata": {},
   "outputs": [],
   "source": [
    "k_xcamb, pk_xcamb = C.camb_XPk(z = z,\n",
    "                               k = k,\n",
    "                               nonlinear = nonlinear,\n",
    "                               halofit = 'mead',\n",
    "                               var_1 = ['tot'],\n",
    "                               var_2 = ['tot'])\n",
    "print(\">> Done XCAMB\")"
   ]
  },
  {
   "cell_type": "markdown",
   "id": "spectacular-reporter",
   "metadata": {},
   "source": [
    "#### with CLASS"
   ]
  },
  {
   "cell_type": "code",
   "execution_count": null,
   "id": "broadband-secondary",
   "metadata": {},
   "outputs": [],
   "source": [
    "k_class, pk_class = C.class_Pk(z = z,                    # Redshifts\n",
    "                               k = k,                    # Scales\n",
    "                               nonlinear = nonlinear)    # do nonlinear (as set above)\n",
    "print(\">> Done CLASS\")"
   ]
  },
  {
   "cell_type": "markdown",
   "id": "lightweight-schedule",
   "metadata": {},
   "source": [
    "#### with Eisenstein-Hu"
   ]
  },
  {
   "cell_type": "code",
   "execution_count": null,
   "id": "bearing-legislation",
   "metadata": {},
   "outputs": [],
   "source": [
    "k_eh, pk_eh = C.EisensteinHu_Pk(z = z,              # Redshifts\n",
    "                                k = k,              # Scales\n",
    "                                sigma_8 = 0.831)    # normalization (As cannot be used here)\n",
    "print(\">> Done EH\")"
   ]
  },
  {
   "cell_type": "markdown",
   "id": "hundred-captain",
   "metadata": {},
   "source": [
    "## Plot"
   ]
  },
  {
   "cell_type": "code",
   "execution_count": null,
   "id": "removed-holly",
   "metadata": {},
   "outputs": [],
   "source": [
    "import matplotlib.pyplot as plt\n",
    "plt.rc('text', usetex=True)\n",
    "plt.rc('font', family = 'serif', size = 25)\n",
    "\n",
    "# Plotting power spectra\n",
    "fig, ax = plt.subplots(2,1,sharex = True, figsize=(18,12))\n",
    "plt.subplots_adjust(hspace = 0., wspace = 0.)\n",
    "for i in range(len(np.atleast_1d(z))):\n",
    "    ax[0].loglog(k_camb,  pk_camb[i],             'b',   lw = 3.0)\n",
    "    ax[0].loglog(k_xcamb, pk_xcamb['tot-tot'][i], 'r-.', lw = 3.0)\n",
    "    ax[0].loglog(k_class, pk_class[i],            'g--', lw = 3.0)\n",
    "    ax[0].loglog(k_eh,    pk_eh[i],               'k:',  lw = 3.0)\n",
    "ax[0].plot(0., 0., 'b',   lw = 3.0, label = 'CAMB')\n",
    "ax[0].plot(0., 0., 'r-.', lw = 3.0, label = 'XCAMB')\n",
    "ax[0].plot(0., 0., 'g--', lw = 3.0, label = 'CLASS')\n",
    "ax[0].plot(0., 0., 'k:',  lw = 3.0, label = 'EH')\n",
    "ax[0].legend(loc = 'lower left', fontsize = 30, ncol = 4)\n",
    "ax[0].set_xlim(k.min(), k.max())\n",
    "ax[0].set_ylabel('$P(k)$ $[(\\mathrm{Mpc}/h)^3]$')\n",
    "ax[0].text(0.75, 0.8, '$z =$ %s' %string_redshifts, transform = ax[0].transAxes, bbox = dict(boxstyle='round', facecolor='white', alpha = 1.0))\n",
    "ax[0].grid(True)\n",
    "\n",
    "# Plot ratios\n",
    "for i in range(len(np.atleast_1d(z))):\n",
    "    ax[1].semilogx(k, (pk_xcamb['tot-tot'][i]/pk_camb[i]-1.)*100., 'r-.', lw = 3.0)\n",
    "    ax[1].semilogx(k, (pk_class[i]           /pk_camb[i]-1.)*100., 'g--', lw = 3.0)\n",
    "    ax[1].semilogx(k, (pk_eh[i]              /pk_camb[i]-1.)*100., 'k:',  lw = 3.0)\n",
    "ax[1].set_xlim(k.min(), k.max())\n",
    "ax[1].set_ylim(-5., 5.)\n",
    "ax[1].set_xlabel('$k$ $[h/\\mathrm{Mpc}]$')\n",
    "ax[1].set_ylabel('$\\\\frac{\\Delta P(k)}{P_\\mathrm{camb}(k)} \\ (\\%)$')\n",
    "ax[1].grid(True)\n",
    "plt.show()"
   ]
  },
  {
   "cell_type": "code",
   "execution_count": null,
   "id": "advance-debate",
   "metadata": {},
   "outputs": [],
   "source": []
  }
 ],
 "metadata": {
  "kernelspec": {
   "display_name": "Python 3",
   "language": "python",
   "name": "python3"
  },
  "language_info": {
   "codemirror_mode": {
    "name": "ipython",
    "version": 3
   },
   "file_extension": ".py",
   "mimetype": "text/x-python",
   "name": "python",
   "nbconvert_exporter": "python",
   "pygments_lexer": "ipython3",
   "version": "3.8.5"
  }
 },
 "nbformat": 4,
 "nbformat_minor": 5
}

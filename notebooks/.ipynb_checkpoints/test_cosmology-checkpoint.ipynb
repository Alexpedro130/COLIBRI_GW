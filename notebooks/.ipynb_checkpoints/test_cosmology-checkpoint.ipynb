{
 "cells": [
  {
   "cell_type": "markdown",
   "id": "informed-notion",
   "metadata": {},
   "source": [
    "# Test of `colibri.cosmology`"
   ]
  },
  {
   "cell_type": "code",
   "execution_count": null,
   "id": "satisfied-offense",
   "metadata": {},
   "outputs": [],
   "source": [
    "import colibri.cosmology as cc\n",
    "import matplotlib.pyplot as plt\n",
    "import numpy as np\n",
    "\n",
    "plt.rc('text', usetex = True)\n",
    "plt.rc('font', family = 'serif', size = 20)"
   ]
  },
  {
   "cell_type": "markdown",
   "id": "collaborative-danger",
   "metadata": {},
   "source": [
    "### Define a ``cosmo`` instance from `colibri.cosmology`"
   ]
  },
  {
   "cell_type": "code",
   "execution_count": null,
   "id": "outer-baltimore",
   "metadata": {},
   "outputs": [],
   "source": [
    "C = cc.cosmo(Omega_m = 0.3089,       # total matter (CDM + baryons + neutrinos) density parameter today\n",
    "             Omega_b = 0.0486,       # baryon density parameter today\n",
    "             Omega_K = 0.,           # Curvature density parameter (Omega_lambda will be set as 1-Omega_K-Omega_m-Omega_b-Omega_gamma\n",
    "             ns      = 0.9667,       # Scalar spectral index of primordial perturbation\n",
    "             As      = 2.14e-9,      # Scalar amplitude of primordial perturbation\n",
    "             sigma_8 = None,         # Power spectrum normalization (set to None as As is defined)\n",
    "             h       = 0.6774,       # Hubble parameter in units of 100 km/s/Mpc\n",
    "             w0      = -1.,          # Dark energy parameter of state today\n",
    "             wa      = 0.,           # Evolution of dark energy parameter of state\n",
    "             tau     = 0.06,         # Optical depth to reionization\n",
    "             T_cmb   = 2.7255,       # CMB temperature today (fixes Omega_gamma)\n",
    "             M_nu    = [0.05, 0.01], # Neutrino masses in eV: in this case we have 2 massive neutrinos\n",
    "             N_nu    = 3,            # Total number of neutrino species\n",
    "             N_eff   = 3.046)        # Effective number of neutrinos: since 2 are massive, only 1.046 will be massless"
   ]
  },
  {
   "cell_type": "markdown",
   "id": "matched-diesel",
   "metadata": {},
   "source": [
    "Print all the cosmological and derived parameters"
   ]
  },
  {
   "cell_type": "code",
   "execution_count": null,
   "id": "vietnamese-geography",
   "metadata": {},
   "outputs": [],
   "source": [
    "print(\"Omega matter:         %.4f\" %(C.Omega_m))\n",
    "print(\"Omega CDM:            %.4f\" %(C.Omega_cdm))\n",
    "print(\"Omega baryons:        %.4f\" %(C.Omega_b))\n",
    "print(\"Omega curvature:      %.4f\" %(C.Omega_K))\n",
    "print(\"Omega Lambda:         %.4f\" %(C.Omega_lambda))\n",
    "print(\"Omega photons:        %.3e\" %(C.Omega_gamma))\n",
    "print(\"Neutrino masses (eV):\", C.M_nu)\n",
    "print(\"Omega neutrino:      \", C.Omega_nu)\n",
    "print(\"Total omega neutrino: %.3e\" %(np.sum(C.Omega_nu)))\n",
    "print(\"Massive neutrinos:    %i\"   %(C.massive_nu))\n",
    "print(\"Massless neutrinos:   %.3f\" %(C.massless_nu))\n",
    "print(\"Total neutrinos:      %i\"   %(C.N_nu))\n",
    "print(\"Effective neutrinos:  %.3f\" %(C.N_eff))\n",
    "print(\"Primordial amplitude: %.3e\" %(C.As))\n",
    "print(\"Spectral index:       %.4f\" %(C.ns))"
   ]
  },
  {
   "cell_type": "markdown",
   "id": "colored-purchase",
   "metadata": {},
   "source": [
    "### Compute useful quantities like distances and density parameters"
   ]
  },
  {
   "cell_type": "markdown",
   "id": "recorded-jacket",
   "metadata": {},
   "source": [
    "Define an array of scale factors and redshifts"
   ]
  },
  {
   "cell_type": "code",
   "execution_count": null,
   "id": "comprehensive-guess",
   "metadata": {},
   "outputs": [],
   "source": [
    "aa = np.logspace(-7., 1., 101)  # Scale factor\n",
    "zz = C.redshift(aa)             # Corresponding redshifts"
   ]
  },
  {
   "cell_type": "markdown",
   "id": "monetary-diving",
   "metadata": {},
   "source": [
    "Density parameters"
   ]
  },
  {
   "cell_type": "code",
   "execution_count": null,
   "id": "scientific-diary",
   "metadata": {},
   "outputs": [],
   "source": [
    "onz0 = C.Omega_nu_z(zz)      # 3 values! One per neutrino\n",
    "ocz0 = C.Omega_cdm_z(zz)     # CDM\n",
    "obz0 = C.Omega_b_z(zz)       # Baryons\n",
    "olz0 = C.Omega_lambda_z(zz)  # Cosmological constant/Dark energy\n",
    "ogz0 = C.Omega_gamma_z(zz)   # Photons\n",
    "okz0 = C.Omega_K_z(zz)       # Curvature\n",
    "\n",
    "# Total (should sum to 1)\n",
    "otz0 = np.sum(onz0, axis=0)+olz0+ocz0+obz0+ogz0+okz0"
   ]
  },
  {
   "cell_type": "code",
   "execution_count": null,
   "id": "miniature-dutch",
   "metadata": {},
   "outputs": [],
   "source": [
    "plt.figure(figsize=(15,10))\n",
    "LS = ['-','--',':']\n",
    "for i in range(len(np.atleast_1d(onz0))):\n",
    "    plt.semilogx(aa, onz0[i],'m', ls = LS[i], lw = 2.0, label ='$\\\\nu_%i$' %(i+1))\n",
    "plt.semilogx(aa, olz0,    'k',   lw = 2.0, label ='$\\Lambda$')\n",
    "plt.semilogx(aa, ogz0,    'g',   lw = 2.0, label = '$\\\\gamma$')\n",
    "plt.semilogx(aa, ocz0,    'b',   lw = 2.0, label = 'cdm')\n",
    "plt.semilogx(aa, obz0,    'r',   lw = 2.0, label = 'b')\n",
    "plt.semilogx(aa, otz0,    'k:',  lw = 4.0, label = 'total')\n",
    "plt.axvline(1., c = 'k', ls = '-.', lw = 4.0, label = 'today')\n",
    "plt.yscale('log')\n",
    "plt.xlabel('$a$')\n",
    "plt.ylabel('$\\Omega_i(a)$')\n",
    "plt.xlim(aa.min(), aa.max())\n",
    "plt.ylim(1e-6, 5.)\n",
    "plt.legend(loc = 'lower left', ncol = 3, fontsize = 16)\n",
    "plt.show()"
   ]
  },
  {
   "cell_type": "markdown",
   "id": "radio-friendly",
   "metadata": {},
   "source": [
    "Compute distances and Hubble parameters"
   ]
  },
  {
   "cell_type": "code",
   "execution_count": null,
   "id": "apart-scheduling",
   "metadata": {},
   "outputs": [],
   "source": [
    "# Distances and Hubble parameter as function of redshift\n",
    "# massive_nu_approx = True is a flag that approximate neutrinos as matter\n",
    "# (it is faster, but less accurate; anyway the error is much smaller than 0.1% at z < 10.\n",
    "zzz   = np.linspace(0., 10., 101)\n",
    "d_com = C.comoving_distance(zzz, massive_nu_approx = True)\n",
    "d_ang = C.angular_diameter_distance(zzz, massive_nu_approx = True)\n",
    "d_lum = C.luminosity_distance(zzz, massive_nu_approx = True)\n",
    "d_vol = C.isotropic_volume_distance(zzz, massive_nu_approx = True)\n",
    "H_z   = C.H(zzz)"
   ]
  },
  {
   "cell_type": "code",
   "execution_count": null,
   "id": "iraqi-commander",
   "metadata": {},
   "outputs": [],
   "source": [
    "plt.figure(figsize=(15,10))\n",
    "plt.semilogy(zzz, d_com, 'k', lw = 2.0, label = '$\\chi(z) \\ [\\mathrm{Mpc}/h]$')\n",
    "plt.semilogy(zzz, d_ang, 'g', lw = 2.0, label = '$D_A(z) \\ [\\mathrm{Mpc}/h]$')\n",
    "plt.semilogy(zzz, d_lum, 'b', lw = 2.0, label = '$D_L(z) \\ [\\mathrm{Mpc}/h]$')\n",
    "plt.semilogy(zzz, d_vol, 'm', lw = 2.0, label = '$D_V(z) \\ [\\mathrm{Mpc}/h]$')\n",
    "plt.semilogy(zzz, H_z,   'r', lw = 2.0, label = '$H(z) \\ [\\mathrm{km/s/Mpc}]$')\n",
    "plt.yscale('log')\n",
    "plt.xlabel('$z$')\n",
    "plt.xlim(zzz.min(), zzz.max())\n",
    "plt.legend(loc = 'lower right', ncol = 3, fontsize = 16)\n",
    "\n",
    "# Show!\n",
    "plt.show()"
   ]
  },
  {
   "cell_type": "markdown",
   "id": "binding-trailer",
   "metadata": {},
   "source": [
    "### CMB power spectrum"
   ]
  },
  {
   "cell_type": "code",
   "execution_count": null,
   "id": "chief-candle",
   "metadata": {},
   "outputs": [],
   "source": [
    "l, Cl = C.class_Cl(l_max = 3000,\n",
    "                   do_tensors = True,\n",
    "                   lensing = True)\n",
    "ClTT   = Cl['TT']\n",
    "ClTE   = Cl['TE']\n",
    "ClEE   = Cl['EE']\n",
    "ClBB   = Cl['BB']\n",
    "ClTT_l = Cl['TT-lensed']\n",
    "ClTE_l = Cl['TE-lensed']\n",
    "ClEE_l = Cl['EE-lensed']\n",
    "ClBB_l = Cl['BB-lensed']"
   ]
  },
  {
   "cell_type": "code",
   "execution_count": null,
   "id": "minimal-roads",
   "metadata": {},
   "outputs": [],
   "source": [
    "import matplotlib.pyplot as plt\n",
    "plt.rc('text', usetex = True)\n",
    "plt.rc('font', family = 'serif', size = 40)\n",
    "\n",
    "plt.figure(figsize = (25,17))\n",
    "plt.loglog(l, l*(l+1)/(2.*np.pi)*ClTT, 'b', label = 'TT')\n",
    "plt.loglog(l, l*(l+1)/(2.*np.pi)*ClTE, 'r', label = 'TE')\n",
    "plt.loglog(l, l*(l+1)/(2.*np.pi)*ClEE, 'g', label = 'EE')\n",
    "plt.loglog(l, l*(l+1)/(2.*np.pi)*ClBB, 'k', label = 'BB')\n",
    "plt.loglog(l, l*(l+1)/(2.*np.pi)*ClTT_l, 'b--')\n",
    "plt.loglog(l, l*(l+1)/(2.*np.pi)*ClTE_l, 'r--')\n",
    "plt.loglog(l, l*(l+1)/(2.*np.pi)*ClEE_l, 'g--')\n",
    "plt.loglog(l, l*(l+1)/(2.*np.pi)*ClBB_l, 'k--')\n",
    "plt.xlim(2, l.max())\n",
    "plt.xlabel('$\\ell$')\n",
    "plt.ylabel('$\\\\frac{\\ell (\\ell+1)}{2\\pi} \\ C_\\ell$')\n",
    "plt.legend()\n",
    "plt.show()"
   ]
  },
  {
   "cell_type": "code",
   "execution_count": null,
   "id": "english-premises",
   "metadata": {},
   "outputs": [],
   "source": []
  }
 ],
 "metadata": {
  "kernelspec": {
   "display_name": "Python 3",
   "language": "python",
   "name": "python3"
  },
  "language_info": {
   "codemirror_mode": {
    "name": "ipython",
    "version": 3
   },
   "file_extension": ".py",
   "mimetype": "text/x-python",
   "name": "python",
   "nbconvert_exporter": "python",
   "pygments_lexer": "ipython3",
   "version": "3.8.5"
  }
 },
 "nbformat": 4,
 "nbformat_minor": 5
}

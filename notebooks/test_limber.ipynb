{
 "cells": [
  {
   "cell_type": "markdown",
   "id": "aee2624d",
   "metadata": {},
   "source": [
    "# Test Limber power spectra and correlation functions\n",
    "\n",
    "This notebook computes angular power spectra or correlation functions in the Limber approximation, for different observables (shear, clustering but also HI, CMB lensing...)"
   ]
  },
  {
   "cell_type": "code",
   "execution_count": null,
   "id": "9569026c",
   "metadata": {},
   "outputs": [],
   "source": [
    "import numpy as np\n",
    "import colibri.limber as LL\n",
    "import colibri.cosmology as cc\n",
    "import matplotlib.pyplot as plt\n",
    "\n",
    "plt.rc('text',usetex=True)\n",
    "plt.rc('font',size=20,family='serif')\n",
    "\n",
    "colors = ['r', 'b','g','goldenrod','m', 'k', 'springgreen', 'darkorange', 'pink', 'darkcyan', 'salmon']\n",
    "LW     = 3"
   ]
  },
  {
   "cell_type": "markdown",
   "id": "83877153",
   "metadata": {},
   "source": [
    "### Input settings\n",
    "\n",
    "Choose number of resdhift bins and whether to compute Limber power spectra (``fourier = True``) or correlation functions (``fourier = False``)"
   ]
  },
  {
   "cell_type": "code",
   "execution_count": null,
   "id": "f61004fc",
   "metadata": {},
   "outputs": [],
   "source": [
    "nbins         = 3      # Number of bins to use 2->10\n",
    "fourier       = True   # Compute power spectra (True) or correlation functions (False)"
   ]
  },
  {
   "cell_type": "markdown",
   "id": "29aad52a",
   "metadata": {},
   "source": [
    "### ```cosmo``` instance\n",
    "\n",
    "Load cosmology instance with default parameters"
   ]
  },
  {
   "cell_type": "code",
   "execution_count": null,
   "id": "9f866095",
   "metadata": {},
   "outputs": [],
   "source": [
    "C = cc.cosmo()"
   ]
  },
  {
   "cell_type": "markdown",
   "id": "e71eb4fe",
   "metadata": {},
   "source": [
    "### Limber instance\n",
    "\n",
    "This takes as arguments:\n",
    " * a cosmology instance\n",
    " * a 2-uple or a list of length 2, whose values are the lower and upper limit of integration in redshift"
   ]
  },
  {
   "cell_type": "code",
   "execution_count": null,
   "id": "6e8f2902",
   "metadata": {},
   "outputs": [],
   "source": [
    "S = LL.limber(cosmology = C, z_limits = [0.01, 5.])"
   ]
  },
  {
   "cell_type": "markdown",
   "id": "903dbf29",
   "metadata": {},
   "source": [
    "### Power spectrum\n",
    "\n",
    "The routine ``load_power_spectra`` interpolates the power spectra at the scales and redshifts asked. It takes as inputs scales, redshifts and a table of power spectra. The shape of the latter must be (number of scales, number of redshifts)"
   ]
  },
  {
   "cell_type": "code",
   "execution_count": null,
   "id": "de555822",
   "metadata": {},
   "outputs": [],
   "source": [
    "# Define scales (h/Mpc) and redshifts\n",
    "kk = np.geomspace(1e-4, 1e2, 301)\n",
    "zz = np.linspace(0., 5., 51)\n",
    "\n",
    "# Compute nonlinear matter power spectra\n",
    "_, pkz = C.camb_Pk(z = zz, k = kk, nonlinear = True, halofit = 'mead2020')\n",
    "\n",
    "# Load them with the appropriate routind\n",
    "S.load_power_spectra(z = zz, k = kk, power_spectra = pkz)"
   ]
  },
  {
   "cell_type": "markdown",
   "id": "b113f8e6",
   "metadata": {},
   "source": [
    "### Redshift bins\n",
    "\n",
    "Once the number of bins is selected, find the bin edges for the galaxy distributions. These here are chosen such that each bin contains the same amount of galaxies.\n",
    "\n",
    "These lines below find the bin edges with another method (they should return the same result as above)\n",
    "\n",
    "```\n",
    "import scipy.integrate as sint\n",
    "import scipy.optimize as so\n",
    "\n",
    "def integral(a,b):\n",
    "    denominator = sint.quad(lambda z: S.euclid_distribution_with_photo_error(z=z,\n",
    "                                                                             zmin=0,\n",
    "                                                                             zmax=np.inf),0.,5.)[0]\n",
    "    numerator   = sint.quad(lambda z: S.euclid_distribution_with_photo_error(z=z,\n",
    "                                                                             zmin=0,\n",
    "                                                                             zmax=np.inf),a,b)[0]\n",
    "    return numerator/denominator\n",
    "bin_edges    = np.zeros(nbins+1)\n",
    "bin_edges[0]  = 0.01\n",
    "bin_edges[-1] = 5.00\n",
    "for i in range(nbins-1):\n",
    "    bin_edges[i+1] = so.root(lambda x: integral(bin_edges[i], x)-1./nbins, bin_edges[i])['x']\n",
    "```"
   ]
  },
  {
   "cell_type": "code",
   "execution_count": null,
   "id": "ffdc2a56",
   "metadata": {},
   "outputs": [],
   "source": [
    "#-----------------\n",
    "# 4) Bins\n",
    "#-----------------\n",
    "# Select number of redshift bins\n",
    "# In this case we chose to assume that each redshift bin has the same number of galaxies\n",
    "# (according to the galaxy distribution we want to use)\n",
    "if   nbins == 2 : bin_edges = [0.01,0.90,5.00]\n",
    "elif nbins == 3 : bin_edges = [0.01,0.71,1.11,5.00]\n",
    "elif nbins == 4 : bin_edges = [0.01,0.62,0.90,1.23,5.00]\n",
    "elif nbins == 5 : bin_edges = [0.01,0.56,0.79,1.02,1.32,5.00]\n",
    "elif nbins == 6 : bin_edges = [0.01,0.52,0.71,0.90,1.11,1.39,5.00]\n",
    "elif nbins == 7 : bin_edges = [0.01,0.48,0.66,0.82,0.98,1.17,1.45,5.00]\n",
    "elif nbins == 8 : bin_edges = [0.01,0.48,0.62,0.76,0.90,1.05,1.23,1.50,5.00]\n",
    "elif nbins == 9 : bin_edges = [0.01,0.44,0.59,0.71,0.84,0.96,1.11,1.28,1.54,5.00]\n",
    "elif nbins == 10: bin_edges = [0.01,0.42,0.56,0.68,0.79,0.90,1.02,1.15,1.32,1.57,5.00]\n",
    "else: raise ValueError(\"Choose among 2->10 bins (or implement your own set of galaxy distributions).\")"
   ]
  },
  {
   "cell_type": "markdown",
   "id": "77f8637e",
   "metadata": {},
   "source": [
    "### Galaxy distributions (can be different for different observables!)\n",
    "\n",
    "Compute galaxy distribution in each redshift bin (they can be different for different probes!) \n",
    " * 'z_gal' is an array of redshift (sample it with dz<0.0625, otherwise you get an error)\n",
    " * 'nz_gal' is a 2-D array of shape (number of bins, number of redshifts)\n",
    " \n",
    "Here we assume a \"Euclid-like\" galaxy distribution, with photometric errors"
   ]
  },
  {
   "cell_type": "code",
   "execution_count": null,
   "id": "40a90c5a",
   "metadata": {},
   "outputs": [],
   "source": [
    "z_gal     = np.linspace(S.z_min, S.z_max, 201)\n",
    "nz_gal    = [S.euclid_distribution_with_photo_error(z=z_gal,\n",
    "                                                    zmin=bin_edges[i],\n",
    "                                                    zmax=bin_edges[i+1],\n",
    "                                                    a = 2.0, b = 1.5,\n",
    "                                                    z_med = 0.9,\n",
    "                                                    f_out = 0.1,\n",
    "                                                    c_b = 1.0, z_b = 0.0, sigma_b = 0.05,\n",
    "                                                    c_o = 1.0, z_o = 0.1, sigma_o = 0.05)\n",
    "             for i in range(nbins)]"
   ]
  },
  {
   "cell_type": "markdown",
   "id": "cad5febe",
   "metadata": {},
   "source": [
    "### Load window functions\n",
    "\n",
    "We compute a number of window functions for different observables. Routines that compute the most widely used are available.\n",
    "There is also the possibility to include new custom ones, with their own custom names.\n",
    "Here we compute\n",
    " * Cosmic shear\n",
    " * Intrinsic Alignment (IA)\n",
    " * Total lensing (the sum of shear and IA)\n",
    " * Galaxy clustering\n",
    " \n",
    "Other window functions are implemented and custom window functions can also be used!\n",
    "e.g. the HI brightness temperature, the CMB lensing and the galaxy number counts\n",
    "\n",
    "```\n",
    "S.load_HI_window_functions         (z=z_gal,nz=nz_gal,bias=1,Omega_HI=0.000625,name='HI')\n",
    "S.load_CMB_lensing_window_functions(z=z_gal,nz=nz_gal,z_LSS=1089,name='CMB')\n",
    "S.load_custom_window_functions     (z=z_gal,window=nz_gal,name='counts')\n",
    "```"
   ]
  },
  {
   "cell_type": "code",
   "execution_count": null,
   "id": "70af8a27",
   "metadata": {},
   "outputs": [],
   "source": [
    "# Cosmic shear\n",
    "S.load_shear_window_functions  (z       = z_gal,\n",
    "                                nz      = nz_gal,\n",
    "                                name    = 'shear')\n",
    "# Intrinsic alignment alone\n",
    "S.load_IA_window_functions     (z       = z_gal,\n",
    "                                nz      = nz_gal,\n",
    "                                A_IA    = 1.72,\n",
    "                                eta_IA  = -0.41,\n",
    "                                beta_IA = 2.17,\n",
    "                                lum_IA  = lambda z: (1+z)**-0.5,\n",
    "                                name    = 'IA')\n",
    "# Lensing (shear + intrinsic alignment)\n",
    "# (Notice that the sum of the previous two should give the same result of the following,\n",
    "# so the three of them are all computed here for didactic purposes.)\n",
    "S.load_lensing_window_functions(z       = z_gal,\n",
    "                                nz      = nz_gal,\n",
    "                                A_IA    = 1.72,\n",
    "                                eta_IA  = -0.41,\n",
    "                                beta_IA = 2.17,\n",
    "                                lum_IA  = lambda z: (1+z)**-0.5,\n",
    "                                name    = 'lensing')\n",
    "# Galaxy clustering\n",
    "z_mean = (np.array(bin_edges[:-1])+np.array(bin_edges[1:]))*0.5\n",
    "bias   = (1.+z_mean)**0.5\n",
    "S.load_galaxy_clustering_window_functions(z = z_gal, nz = nz_gal, bias = bias, name = 'galaxy')"
   ]
  },
  {
   "cell_type": "markdown",
   "id": "166d55de",
   "metadata": {},
   "source": [
    "### Compute angular spectra or correlation functions\n",
    "\n",
    "Compute the Limber power spectra for all the windows loaded above (if none has been loaded or if the 'windows' argument is an empty list, nothing will be returned). To compute auto- and cross-spectra only for a subset of the window functions, change the argument of ``windows`` with a list of names of windows.\n",
    "\n",
    "If correlation functions are asked, since different windows require different orders for Hankel transform, a ``for`` loop with fine-tuned 'order' parameter must be performed."
   ]
  },
  {
   "cell_type": "code",
   "execution_count": null,
   "id": "c0205477",
   "metadata": {},
   "outputs": [],
   "source": [
    "# Compute power spectra\n",
    "if fourier:\n",
    "    ll    = np.geomspace(2., 1e4, 51)\n",
    "    Cl    = S.limber_angular_power_spectra(l = ll, windows = None)\n",
    "    # Multiplication constant for plotting\n",
    "    c = ll*(ll+1.)/(2.*np.pi)\n",
    "    # Retrieve Single components\n",
    "    Cl_ss = Cl['shear-shear']\n",
    "    Cl_sI = Cl['shear-IA']+Cl['IA-shear']\n",
    "    Cl_II = Cl['IA-IA']\n",
    "    Cl_LL = Cl['lensing-lensing']\n",
    "    Cl_GL = Cl['galaxy-lensing']\n",
    "    Cl_GG = Cl['galaxy-galaxy']\n",
    "    \n",
    "# Compute the Limber correlation functions for pairs of windows\n",
    "else:\n",
    "    ll    = np.geomspace(2., 1e4, 128)\n",
    "    Cl    = S.limber_angular_power_spectra(l = ll)\n",
    "    theta = np.geomspace(10., 800., 51) \n",
    "    xi    = {}\n",
    "    for key in Cl.keys():\n",
    "        if   key in ['lensing-lensing', 'shear-shear', 'shear-IA', 'IA-shear', 'IA-IA']:\n",
    "            order_plus, order_minus = 0, 4\n",
    "            xi[key+' +'] = S.limber_angular_correlation_functions(theta, ll, Cl[key], order_plus)\n",
    "            xi[key+' -'] = S.limber_angular_correlation_functions(theta, ll, Cl[key], order_minus)\n",
    "        elif key in ['lensing-galaxy', 'galaxy-lensing']:\n",
    "            order = 2\n",
    "            xi[key] = S.limber_angular_correlation_functions(theta, ll, Cl[key], order)\n",
    "        elif key == 'galaxy-galaxy':\n",
    "            order = 0\n",
    "            xi[key] = S.limber_angular_correlation_functions(theta, ll, Cl[key], order)\n",
    "    # Retrieve single components\n",
    "    xi_ss_p = xi['shear-shear +']\n",
    "    xi_sI_p = xi['shear-IA +']+xi['IA-shear +']\n",
    "    xi_II_p = xi['IA-IA +']\n",
    "    xi_LL_p = xi['lensing-lensing +']\n",
    "    xi_ss_m = xi['shear-shear -']\n",
    "    xi_sI_m = xi['shear-IA -']+xi['IA-shear -']\n",
    "    xi_II_m = xi['IA-IA -']\n",
    "    xi_LL_m = xi['lensing-lensing -']\n",
    "    xi_GL   = xi['galaxy-lensing']\n",
    "    xi_GG   = xi['galaxy-galaxy']"
   ]
  },
  {
   "cell_type": "markdown",
   "id": "0f18ab4a",
   "metadata": {},
   "source": [
    "### Plot spectra or correlation functions"
   ]
  },
  {
   "cell_type": "code",
   "execution_count": null,
   "id": "bcde6193",
   "metadata": {},
   "outputs": [],
   "source": [
    "hf, axarr = plt.subplots(nbins, nbins, sharex = True, sharey = True, figsize=(12,8))\n",
    "L,R,T,B=0.1, 0.95, 0.95, 0.15\n",
    "plt.subplots_adjust(left=L,right=R,top=T,bottom=B)\n",
    "# Triangle plot\n",
    "for j in range(1, nbins):\n",
    "    for i in range(j):\n",
    "        axarr[i,j].axis('off')\n",
    "    plt.setp([a.get_xticklabels() for a in axarr[i, :]], visible=False)\n",
    "    plt.setp([a.get_yticklabels() for a in axarr[:, j]], visible=False)\n",
    "    plt.subplots_adjust(wspace=0, hspace=0)\n",
    "\n",
    "if fourier:\n",
    "    for i in range(nbins):\n",
    "        for j in range(i, nbins):\n",
    "\n",
    "            # Plotting Cls\n",
    "            axarr[j,i].loglog(ll, c*Cl_ss[i,j],'blue'     ,ls='-' ,lw=LW,label='$C_\\mathrm{\\gamma\\gamma}(\\ell)$')\n",
    "            axarr[j,i].loglog(ll, c*Cl_II[i,j],'red'      ,ls='-' ,lw=LW,label='$C_\\mathrm{II}(\\ell)$')\n",
    "            axarr[j,i].loglog(ll, c*Cl_sI[i,j],'magenta'  ,ls='-' ,lw=LW,label='$C_\\mathrm{\\gamma I}(\\ell)$')\n",
    "            axarr[j,i].loglog(ll,-c*Cl_sI[i,j],'magenta'  ,ls='--',lw=LW)\n",
    "            axarr[j,i].loglog(ll, c*Cl_LL[i,j],'black'    ,ls='-' ,lw=LW,label='$C_\\mathrm{LL}(\\ell)$')\n",
    "            axarr[j,i].loglog(ll, c*Cl_GL[i,j],'green'    ,ls='-' ,lw=LW,label='$C_\\mathrm{GL}(\\ell)$')\n",
    "            axarr[j,i].loglog(ll, c*Cl_GL[j,i],'limegreen',ls=':' ,lw=LW,label='$C_\\mathrm{LG}(\\ell)$')\n",
    "            axarr[j,i].loglog(ll, c*Cl_GG[i,j],'goldenrod',ls='-' ,lw=LW,label='$C_\\mathrm{GG}(\\ell)$')\n",
    "            # Coloured box\n",
    "            if i != j: color = 'grey'\n",
    "            else:      color = colors[i]\n",
    "            axarr[j,i].text(0.15, 0.85, '$%i \\\\times %i$' %(i+1,j+1),\n",
    "                                transform=axarr[j,i].transAxes,\n",
    "                                style='italic',\n",
    "                                fontsize = 12*(1.-nbins/10.),\n",
    "                                horizontalalignment='center',\n",
    "                                bbox={'facecolor': color, 'alpha':0.5, 'pad':5})\n",
    "            axarr[j,i].set_xlim(ll.min(), ll.max())\n",
    "            axarr[j,i].set_ylim(5e-10, 1e0)\n",
    "            axarr[j,i].set_yticks([1e-8,1e-5,1e-2])\n",
    "    plt.legend(bbox_to_anchor=(0.93, 0.98), fontsize = 12, bbox_transform=hf.transFigure)\n",
    "    plt.text((L+R)*0.5, B*0.4, \"$\\ell$\", ha='center', transform=hf.transFigure)\n",
    "    plt.text(L*0.4,(T+B)*0.5, \"$\\ell(\\ell+1) \\ C_\\ell \\ / \\ (2\\pi)$\", ha='center', va = 'center', rotation = 90, transform=hf.transFigure)\n",
    "else:\n",
    "    for i in range(nbins):\n",
    "        for j in range(i, nbins):\n",
    "\n",
    "            # Plotting correlation functions\n",
    "            axarr[j,i].loglog(theta, xi_ss_p[i,j],'blue',\n",
    "                              ls='-' ,lw=LW,label='$\\\\xi^{+/-}_\\mathrm{\\gamma\\gamma}(\\\\theta)$')\n",
    "            axarr[j,i].loglog(theta, xi_II_p[i,j],'red',\n",
    "                              ls='-' ,lw=LW,label='$\\\\xi^{+/-}_\\mathrm{II}(\\\\theta)$')\n",
    "            axarr[j,i].loglog(theta, xi_sI_p[i,j],'magenta',\n",
    "                              ls='-' ,lw=LW,label='$\\\\xi^{+/-}_\\mathrm{\\gamma I}(\\\\theta)$')\n",
    "            axarr[j,i].loglog(theta, xi_LL_p[i,j],'black',\n",
    "                              ls='-' ,lw=LW,label='$\\\\xi^{+/-}_\\mathrm{LL}(\\\\theta)$')\n",
    "            axarr[j,i].loglog(theta, xi_ss_m[i,j],'blue',\n",
    "                              ls='--',lw=LW)\n",
    "            axarr[j,i].loglog(theta, xi_II_m[i,j],'red',\n",
    "                              ls='--',lw=LW)\n",
    "            axarr[j,i].loglog(theta, xi_sI_m[i,j],'magenta',\n",
    "                              ls='--',lw=LW)\n",
    "            axarr[j,i].loglog(theta, xi_LL_m[i,j],'black',\n",
    "                              ls='--',lw=LW)\n",
    "            axarr[j,i].loglog(theta, xi_GL  [i,j],'green',\n",
    "                              ls='-' ,lw=LW,label='$\\\\xi_\\mathrm{GL}(\\\\theta)$')\n",
    "            axarr[j,i].loglog(theta, xi_GL  [j,i],'limegreen',\n",
    "                              ls=':' ,lw=LW,label='$\\\\xi_\\mathrm{LG}(\\\\theta)$')\n",
    "            axarr[j,i].loglog(theta, xi_GG  [i,j],'goldenrod',\n",
    "                              ls='-' ,lw=LW,label='$\\\\xi_\\mathrm{GG}(\\\\theta)$')\n",
    "            # Coloured box\n",
    "            if i != j: color = 'grey'\n",
    "            else:      color = colors[i]\n",
    "            axarr[j,i].text(0.15, 0.85, '$%i \\\\times %i$' %(i+1,j+1),\n",
    "                                transform=axarr[j,i].transAxes,\n",
    "                                style='italic',\n",
    "                                fontsize = 12*(1.-nbins/10.),\n",
    "                                horizontalalignment='center',\n",
    "                                bbox={'facecolor': color, 'alpha':0.5, 'pad':5})\n",
    "            axarr[j,i].set_xlim(theta.min(), theta.max())\n",
    "            axarr[j,i].set_ylim(1e-8, 1e-2)\n",
    "    plt.legend(bbox_to_anchor=(0.93, 0.98), fontsize = 12, bbox_transform=hf.transFigure)\n",
    "    plt.text((L+R)*0.5, B*0.4, \"$\\\\theta \\ [\\mathrm{arcmin}]$\", ha='center', transform=hf.transFigure)\n",
    "    plt.text(L*0.4,(T+B)*0.5, \"$\\\\xi(\\\\theta)$\", ha='center', va = 'center', rotation = 90, transform=hf.transFigure)\n",
    "plt.show()"
   ]
  },
  {
   "cell_type": "markdown",
   "id": "89a33c76",
   "metadata": {},
   "source": [
    "### Plot galaxy distributions and window functions"
   ]
  },
  {
   "cell_type": "code",
   "execution_count": null,
   "id": "1f551868",
   "metadata": {},
   "outputs": [],
   "source": [
    "plt.figure(figsize=(12,8))\n",
    "plt.subplots_adjust(hspace = 0.)\n",
    "zz = np.linspace(0.1, 3.5, 1000)\n",
    "for i in range(nbins):\n",
    "    plt.plot(zz, S.window_function['lensing'][i](zz)*1e5,colors[i],ls='-' ,lw=LW,label='Bin %i' %(i+1))\n",
    "    plt.plot(zz, S.window_function['shear'  ][i](zz)*1e5,colors[i],ls='--',lw=LW)\n",
    "    plt.plot(zz, S.window_function['IA'     ][i](zz)*1e5,colors[i],ls=':' ,lw=LW)\n",
    "    plt.plot(zz, S.window_function['galaxy' ][i](zz)*1e3,colors[i],ls='-.',lw=LW)\n",
    "    #plt.plot(zz, S.window_function['HI'     ][i](zz)*1e1,colors[i],ls=':' ,lw=LW)\n",
    "    #plt.plot(zz, S.window_function['CMB'    ][i](zz)*1e1,colors[i],ls=':' ,lw=LW)\n",
    "    #plt.plot(zz, S.window_function['counts' ][i](zz)*1e1,colors[i],ls=':' ,lw=LW)\n",
    "plt.plot(np.nan,np.nan,'k-' ,lw=LW,label='$10^5\\\\times W_\\mathrm{L}(z)$')\n",
    "plt.plot(np.nan,np.nan,'k--',lw=LW,label='$10^5\\\\times W_\\gamma(z)$')\n",
    "plt.plot(np.nan,np.nan,'k:' ,lw=LW,label='$10^5\\\\times W_\\mathrm{IA}(z)$')\n",
    "plt.plot(np.nan,np.nan,'k-.',lw=LW,label='$10^3\\\\times W_\\mathrm{G}(z)$')\n",
    "plt.xlabel('$z$')\n",
    "plt.xlim(zz.min(), zz.max())\n",
    "plt.ylabel('$W_\\mathrm{X}(z) \\ [h/\\mathrm{Mpc}]$')\n",
    "plt.legend(ncol=2)\n",
    "plt.show()"
   ]
  },
  {
   "cell_type": "code",
   "execution_count": null,
   "id": "846121e4",
   "metadata": {},
   "outputs": [],
   "source": []
  }
 ],
 "metadata": {
  "kernelspec": {
   "display_name": "Python 3 (ipykernel)",
   "language": "python",
   "name": "python3"
  },
  "language_info": {
   "codemirror_mode": {
    "name": "ipython",
    "version": 3
   },
   "file_extension": ".py",
   "mimetype": "text/x-python",
   "name": "python",
   "nbconvert_exporter": "python",
   "pygments_lexer": "ipython3",
   "version": "3.9.7"
  }
 },
 "nbformat": 4,
 "nbformat_minor": 5
}

{
 "cells": [
  {
   "cell_type": "markdown",
   "id": "3fbc7f5b",
   "metadata": {},
   "source": [
    "# Test nonlinear methods for power spectrum\n",
    "\n",
    "This notebook tests different methods to compute the non-linear matter power spectrum, implemented in the ``nonlinear`` module and tested against predictions from Boltzmann solvers"
   ]
  },
  {
   "cell_type": "code",
   "execution_count": null,
   "id": "936a9293",
   "metadata": {},
   "outputs": [],
   "source": [
    "import colibri.cosmology as cc\n",
    "import numpy as np\n",
    "import matplotlib.pyplot as plt\n",
    "import colibri.nonlinear as NL\n",
    "\n",
    "plt.rc('text', usetex = True)\n",
    "plt.rc('font', family = 'serif', size = 25)\n",
    "colors = ['b','r','g','m','gray','c']"
   ]
  },
  {
   "cell_type": "markdown",
   "id": "f23b9c7c",
   "metadata": {},
   "source": [
    "# Choose the nonlinear method among\n",
    "\n",
    " * 'mead'        (good for neutrinos)\n",
    " * 'mead2020'    (good for neutrinos)\n",
    " * 'takahashi'   (good for neutrinos)\n",
    " * 'bird'        (good for neutrinos)\n",
    " * 'halomodel'   (good for neutrinos)\n",
    " * 'classichm'   (not good for neutrinos)"
   ]
  },
  {
   "cell_type": "code",
   "execution_count": null,
   "id": "566d50f1",
   "metadata": {},
   "outputs": [],
   "source": [
    "set_halofit = 'mead2020'"
   ]
  },
  {
   "cell_type": "markdown",
   "id": "a486139f",
   "metadata": {},
   "source": [
    "### Redshifts and scales (h/Mpc)"
   ]
  },
  {
   "cell_type": "code",
   "execution_count": null,
   "id": "3b0cb300",
   "metadata": {},
   "outputs": [],
   "source": [
    "zz = np.linspace(0., 5., 6)\n",
    "kk = np.logspace(-4., 2., 201)"
   ]
  },
  {
   "cell_type": "markdown",
   "id": "2c7d768e",
   "metadata": {},
   "source": [
    "### Define cosmology"
   ]
  },
  {
   "cell_type": "code",
   "execution_count": null,
   "id": "bf88b098",
   "metadata": {},
   "outputs": [],
   "source": [
    "C  = cc.cosmo(Omega_m=0.32,Omega_b=0.05,As=2.12605e-9,ns=0.96,h=0.67,M_nu=0.06)#,w0=-1.1, wa=-0.3)"
   ]
  },
  {
   "cell_type": "markdown",
   "id": "89801436",
   "metadata": {},
   "source": [
    "### Compute the nonlinear matter power spectrum with camb"
   ]
  },
  {
   "cell_type": "code",
   "execution_count": null,
   "id": "83333ecb",
   "metadata": {},
   "outputs": [],
   "source": [
    "if set_halofit != 'classichm':\n",
    "    k_camb, pk_nl_camb = C.camb_Pk(k = kk, z = zz, nonlinear = True, halofit = set_halofit)\n",
    "else:\n",
    "    import colibri.halo as hc\n",
    "    H = hc.halo(z = zz,\n",
    "                k = kk,\n",
    "                code = 'camb',\n",
    "                cosmology = C)\n",
    "    H.halo_Pk()\n",
    "    k_camb      = kk\n",
    "    pk_nl_camb  = H.Pk['matter']['total halo']\n",
    "print(\">> Non-linear power spectrum computed with CAMB halofit '%s'\" %set_halofit)"
   ]
  },
  {
   "cell_type": "markdown",
   "id": "c7f6247d",
   "metadata": {},
   "source": [
    "\n",
    "### Use the ``nonlinear`` module in ``colibri`` to compute the nonlinear matter power spectrum\n",
    "\n",
    "First, one needs to compute the linear one. We compute both the CDM+baryons power spectrum and the total matter one. The CDM+baryons is needed e.g. if one wants to use ``HMcode2020`` or to have the CDM+baryons-only nonlinear part.\n",
    "\n",
    "Most of the routines ``colibri`` has for the nonlinear part require\n",
    " * an array of scales\n",
    " * an array of redshifts\n",
    " * a 2D array of linear power spectra (the shape must coincide with ``(len(z),len(k))``). HMcode2020 requires two 2D arrays, with linear total matter and CDM+baryons spectra\n",
    " * a cosmology instance\n"
   ]
  },
  {
   "cell_type": "code",
   "execution_count": null,
   "id": "b2c863b1",
   "metadata": {},
   "outputs": [],
   "source": [
    "# Compute at first the linear power spectrum (in LCDM 'cb' and 'tot' is the same)\n",
    "k_l, pk_l = C.camb_XPk(z = zz, k = kk,\n",
    "                       var_1 = ['cb','tot'],\n",
    "                       var_2 = ['cb','tot'])\n",
    "\n",
    "# Compute non-linear power spectrum\n",
    "if set_halofit == 'mead':\n",
    "    set_class = 'HMcode2016'\n",
    "    pk_mm = pk_l['tot-tot']\n",
    "    do_nonlinear = NL.HMcode2016(z            = zz,\n",
    "                                 k            = k_l,\n",
    "                                 pk           = pk_mm,\n",
    "                                 cosmology    = C)\n",
    "elif set_halofit == 'mead2020':\n",
    "    set_class = 'HMcode2020'\n",
    "    pk_cc = pk_l['cb-cb']\n",
    "    pk_mm = pk_l['tot-tot']\n",
    "    do_nonlinear = NL.HMcode2020(z            = zz,\n",
    "                                 k            = k_l,\n",
    "                                 pk_cc        = pk_cc,\n",
    "                                 pk_mm        = pk_mm,\n",
    "                                 cosmology    = C)\n",
    "elif set_halofit == 'takahashi':\n",
    "    set_class = 'Takahashi'\n",
    "    pk_mm = pk_l['tot-tot']\n",
    "    do_nonlinear = NL.Takahashi (z            = zz,\n",
    "                                 k            = k_l,\n",
    "                                 pk           = pk_mm,\n",
    "                                 cosmology    = C)\n",
    "elif set_halofit == 'bird':\n",
    "    set_class = 'Bird'\n",
    "    pk_mm = pk_l['tot-tot']\n",
    "    do_nonlinear = NL.Bird      (z            = zz,\n",
    "                                 k            = k_l,\n",
    "                                 pk           = pk_mm,\n",
    "                                 cosmology    = C)\n",
    "elif set_halofit == 'halomodel':\n",
    "    set_class = 'Halo Model'\n",
    "    pk_mm = pk_l['tot-tot']\n",
    "    do_nonlinear = NL.halomodel (z            = zz,\n",
    "                                 k            = k_l,\n",
    "                                 pk           = pk_mm,\n",
    "                                 cosmology    = C)\n",
    "elif set_halofit == 'classichm':\n",
    "    set_class = 'Halo Model'\n",
    "    pk_mm = pk_l['tot-tot']\n",
    "    do_nonlinear = NL.classic_halomodel(z            = zz,\n",
    "                                        k            = k_l,\n",
    "                                        pk           = pk_mm,\n",
    "                                        cosmology    = C)\n",
    "else:\n",
    "    raise ValueError(\"Non-linear method not recognized\")\n",
    "# Retrieve the non-linear power spectrum\n",
    "pk_nl_colibri = do_nonlinear.pk_nl\n",
    "print(\">> Non-linear power spectrum computed with '%s' class in 'nonlinear' module\" %(set_class))"
   ]
  },
  {
   "cell_type": "markdown",
   "id": "cde6a6e0",
   "metadata": {},
   "source": [
    "### Plot"
   ]
  },
  {
   "cell_type": "code",
   "execution_count": null,
   "id": "36b55280",
   "metadata": {},
   "outputs": [],
   "source": [
    "plt.figure(figsize=(12,12))\n",
    "ax1 = plt.subplot2grid((4,4), (0,0), colspan=4, rowspan=3)\n",
    "ax2 = plt.subplot2grid((4,4), (3,0), colspan=4)\n",
    "plt.setp(ax1.get_xticklabels(), visible=False)\n",
    "plt.subplots_adjust(wspace=0, hspace=0)\n",
    "\n",
    "for i in range(len(zz)):\n",
    "\n",
    "    # Plot spectra\n",
    "    ax1.loglog(kk,pk_nl_camb[i]   ,colors[i],ls='' , marker='o',ms=3)               # Plot nonlinear module\n",
    "    ax1.loglog(kk,pk_nl_colibri[i],colors[i],ls='-', lw=2.0,label='$z=%.1f$'%zz[i]) # Plot CAMB halofit\n",
    "\n",
    "    # Plot ratios\n",
    "    ax2.semilogx(kk,(pk_nl_colibri[i]/pk_nl_camb[i]-1.)*100.,colors[i],ls='-',lw=2.0)\n",
    "\n",
    "\n",
    "ax1.loglog(0,0,'k', ls = '', marker='o',lw = 2.0, label = \"CAMB halofit %s\" %set_halofit)\n",
    "ax1.loglog(0,0,'k', ls = '-', lw = 2.0, label = \"`nonlinear' module %s\" %set_class)\n",
    "ax1.set_ylabel('$P(k) \\ [(\\mathrm{Mpc}/h)^3]$')\n",
    "ax1.set_xlim(kk.min(), 10.)\n",
    "ax1.set_ylim(5e-2, 1e5)\n",
    "ax1.grid(True)\n",
    "\n",
    "ax2.fill_between(k_camb, -.5, .5, color = 'k', alpha = 0.1)\n",
    "ax2.fill_between(k_camb, -1., 1., color = 'k', alpha = 0.05)\n",
    "ax2.set_xlabel('$k$ $[h/\\mathrm{Mpc}]$')\n",
    "ax2.set_ylabel(r'$\\left(\\frac{P(k)}{P_\\mathrm{CAMB}(k)}-1\\right)\\times 100 \\ [\\%]$', fontsize = 12)\n",
    "ax2.set_xlim(kk.min(), 10.)\n",
    "ax2.set_ylim(-2.25, 2.25)\n",
    "ax2.grid(True)\n",
    "\n",
    "ax1.legend(loc='lower left', ncol = 3, fontsize = 12)\n",
    "plt.show()"
   ]
  },
  {
   "cell_type": "code",
   "execution_count": null,
   "id": "3ce30875",
   "metadata": {},
   "outputs": [],
   "source": []
  }
 ],
 "metadata": {
  "kernelspec": {
   "display_name": "Python 3 (ipykernel)",
   "language": "python",
   "name": "python3"
  },
  "language_info": {
   "codemirror_mode": {
    "name": "ipython",
    "version": 3
   },
   "file_extension": ".py",
   "mimetype": "text/x-python",
   "name": "python",
   "nbconvert_exporter": "python",
   "pygments_lexer": "ipython3",
   "version": "3.9.7"
  }
 },
 "nbformat": 4,
 "nbformat_minor": 5
}

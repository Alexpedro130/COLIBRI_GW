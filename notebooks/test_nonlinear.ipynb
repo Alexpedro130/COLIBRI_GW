{
 "cells": [
  {
   "cell_type": "markdown",
   "id": "informed-notion",
   "metadata": {},
   "source": [
    "# Test of `nonlinear` module\n",
    "\n",
    "This code computes the non-linear matter power spectrum with different methods\n",
    " * the Halofit operator defined in CAMB\n",
    " * the Halofit operator defined in the `nonlinear.py` module\n"
   ]
  },
  {
   "cell_type": "code",
   "execution_count": null,
   "id": "satisfied-offense",
   "metadata": {},
   "outputs": [],
   "source": [
    "import colibri.cosmology as cc\n",
    "import numpy as np\n",
    "import matplotlib.pyplot as plt\n",
    "import colibri.nonlinear as NL\n",
    "\n",
    "plt.rc('text', usetex = True)\n",
    "plt.rc('font', family = 'serif', size = 25)\n",
    "colors = ['b','r','g','m','gray','c']"
   ]
  },
  {
   "cell_type": "markdown",
   "id": "amino-somerset",
   "metadata": {},
   "source": [
    "Choose among different non-linear models. Provided ones are:\n",
    " * `'mead'` in CAMB; `NL.HMcode2016` in COLIBRI: first HMcode edition, optimized for LCDM without massive neutrinos\n",
    " * `'mead2020'` in CAMB; `NL.HMcode2020` in COLIBRI: HMcode2020, optimized for neutrinos also\n",
    " * `'takahashi'` in CAMB; `NL.Takahashi` in COLIBRI: Takahashi et al., 2012, without massive neutrinos\n",
    " * `'bird'` in CAMB; `NL.Bird` in COLIBRI: Bird et al., 2012 corrections\n",
    " * `'halomodel'` in CAMB; `NL.halomodel` in COLIBRI: Classic halo model in Mead's version\n",
    " \n",
    "To compute the total matter power spectrum with 'mead' and 'takahashi', since they are not optimized for neutrinos, one has to use this class to non-linearize the CDM part and subsequently add the neutrino part and the cross-spectrum with the correct weights."
   ]
  },
  {
   "cell_type": "code",
   "execution_count": null,
   "id": "opposite-sixth",
   "metadata": {},
   "outputs": [],
   "source": [
    "# Choose among\n",
    "# 'mead'        (not good for neutrinos)\n",
    "# 'mead2020'    (good for neutrinos)\n",
    "# 'takahashi'   (not good for neutrinos)\n",
    "# 'bird'        (good for neutrinos)\n",
    "# 'halomodel'   (good for neutrinos)\n",
    "set_halofit = 'mead2020'"
   ]
  },
  {
   "cell_type": "markdown",
   "id": "suited-press",
   "metadata": {},
   "source": [
    "### Initialize cosmology instance, redshifts and scales"
   ]
  },
  {
   "cell_type": "code",
   "execution_count": null,
   "id": "strange-polish",
   "metadata": {},
   "outputs": [],
   "source": [
    "C  = cc.cosmo(Omega_m = 0.3089, M_nu = 0.0, Omega_b = 0.0486, As = 2.14e-9, ns = 0.9667, h = 0.6774)\n",
    "zz = np.linspace(0., 5., 6)\n",
    "kk = np.logspace(-4., 2., 201)"
   ]
  },
  {
   "cell_type": "markdown",
   "id": "angry-westminster",
   "metadata": {},
   "source": [
    "### Compute non-linear with CAMB"
   ]
  },
  {
   "cell_type": "code",
   "execution_count": null,
   "id": "based-management",
   "metadata": {},
   "outputs": [],
   "source": [
    "k_camb, pk_nl_camb = C.camb_Pk(k = kk, z = zz, nonlinear = True, halofit = set_halofit)\n",
    "print(\">> Non-linear power spectrum computed with CAMB halofit '%s'\" %set_halofit)"
   ]
  },
  {
   "cell_type": "markdown",
   "id": "progressive-husband",
   "metadata": {},
   "source": [
    "### Compute non-linear with `nonlinear.py`\n",
    "\n",
    "The classes `HMcode2016`, `halomodel`, `Takahashi` and `Bird` take as arguments:\n",
    " * an array of scales\n",
    " * an array of redshifts\n",
    " * a 2D array of linear matter power spectra (the shape must coincide with len(z) x len(k) )\n",
    " * a boolean value to smooth or not the BAO feature in non-linear power spectrum\n",
    " * a cosmology instance\n",
    " \n",
    " The classes `HMcode2020` takes an additional argument\n",
    " * a 2D array of linear CDM+baryon power spectra (the shape must coincide with len(z) x len(k) )"
   ]
  },
  {
   "cell_type": "code",
   "execution_count": null,
   "id": "diagnostic-rebate",
   "metadata": {},
   "outputs": [],
   "source": [
    "# Compute at first the linear power spectrum (in LCDM 'cb' and 'tot' is the same)\n",
    "k_l, pk_l = C.camb_XPk(z = zz, k = kk, var_1 =  ['cb','tot'], var_2 = ['cb','tot'])\n",
    "# Compute non-linear power spectrum\n",
    "if set_halofit == 'mead':\n",
    "    set_class = 'HMcode2016'\n",
    "    pk_mm = pk_l['tot-tot']\n",
    "    do_nonlinear = NL.HMcode2016(z            = zz,\n",
    "                                 k            = k_l,\n",
    "                                 pk           = pk_mm,\n",
    "                                 field        = 'cb',\n",
    "                                 cosmology    = C)\n",
    "elif set_halofit == 'mead2020':\n",
    "    set_class = 'HMcode2020'\n",
    "    pk_cc = pk_l['cb-cb']\n",
    "    pk_mm = pk_l['tot-tot']\n",
    "    do_nonlinear = NL.HMcode2020(z         = zz,\n",
    "                                 k         = k_l,\n",
    "                                 pk_cc     = pk_cc,\n",
    "                                 pk_mm     = pk_mm,\n",
    "                                 cosmology = C)\n",
    "elif set_halofit == 'takahashi':\n",
    "    set_class = 'Takahashi'\n",
    "    pk_mm = pk_l['tot-tot']\n",
    "    do_nonlinear = NL.Takahashi (z            = zz,\n",
    "                                 k            = k_l,\n",
    "                                 pk           = pk_mm,\n",
    "                                 cosmology    = C)\n",
    "elif set_halofit == 'bird':\n",
    "    set_class = 'Bird'\n",
    "    pk_mm = pk_l['tot-tot']\n",
    "    do_nonlinear = NL.Bird      (z = zz,\n",
    "                                 k = k_l,\n",
    "                                 pk = pk_mm,\n",
    "                                 cosmology = C)\n",
    "elif set_halofit == 'halomodel':\n",
    "    set_class = 'Halo Model'\n",
    "    pk_mm = pk_l['tot-tot']\n",
    "    do_nonlinear = NL.halomodel (z = zz,\n",
    "                                 k = k_l,\n",
    "                                 pk = pk_mm,\n",
    "                                 cosmology = C)\n",
    "else:\n",
    "    raise ValueError(\"Non-linear method not recognized\")\n",
    "# Retrieve the non-linear power spectrum\n",
    "pk_nl_colibri = do_nonlinear.pk_nl\n",
    "print(\">> Non-linear power spectrum computed with '%s' class in 'nonlinear' module\" %(set_class))"
   ]
  },
  {
   "cell_type": "markdown",
   "id": "centered-durham",
   "metadata": {},
   "source": [
    "### Plot"
   ]
  },
  {
   "cell_type": "code",
   "execution_count": null,
   "id": "mathematical-complex",
   "metadata": {},
   "outputs": [],
   "source": [
    "plt.figure(figsize=(15,15))\n",
    "ax1 = plt.subplot2grid((4,4), (0,0), colspan=4, rowspan=3)\n",
    "ax2 = plt.subplot2grid((4,4), (3,0), colspan=4)\n",
    "plt.setp(ax1.get_xticklabels(), visible=False)\n",
    "plt.subplots_adjust(wspace=0, hspace=0)\n",
    "\n",
    "for i in range(len(zz)):\n",
    "\n",
    "    # Plot spectra\n",
    "    ax1.loglog(kk,pk_nl_camb[i]   ,colors[i],ls='-', lw=2.0,label='$z=%.1f$'%zz[i]) # Plot CAMB halofit\n",
    "    ax1.loglog(kk,pk_nl_colibri[i],colors[i],marker='o',ms=3)                       # Plot nonlinear module\n",
    "\n",
    "    # Plot ratios\n",
    "    ax2.semilogx(kk,(pk_nl_colibri[i]/pk_nl_camb[i]-1.)*100.,colors[i],ls='-',lw=2.0)\n",
    "\n",
    "\n",
    "ax1.loglog(0,0,'k', ls = '',  lw = 2.0, label = \"CAMB halofit %s\" %set_halofit)\n",
    "ax1.loglog(0,0,'k', ls = '-', lw = 2.0, label = \"`nonlinear' module %s\" %set_class)\n",
    "ax1.set_ylabel('$P(k) \\ [(\\mathrm{Mpc}/h)^3]$')\n",
    "ax1.set_xlim(kk.min(), kk.max())\n",
    "ax1.set_ylim(5e-2, 1e5)\n",
    "ax1.grid(True)\n",
    "\n",
    "ax2.fill_between(k_camb, -.5, .5, color = 'k', alpha = 0.1)\n",
    "ax2.fill_between(k_camb, -1., 1., color = 'k', alpha = 0.05)\n",
    "ax2.set_xlabel('$k$ $[h/\\mathrm{Mpc}]$')\n",
    "ax2.set_ylabel(r'$\\left(\\frac{P(k)}{P_\\mathrm{CAMB}(k)}-1\\right)\\times 100 \\ [\\%]$', fontsize = 20)\n",
    "ax2.set_xlim(kk.min(), kk.max())\n",
    "ax2.set_ylim(-2.25, 2.25)\n",
    "ax2.grid(True)\n",
    "\n",
    "ax1.legend(loc='lower left', ncol = 3, fontsize = 20)\n",
    "plt.show()"
   ]
  },
  {
   "cell_type": "code",
   "execution_count": null,
   "id": "dietary-isaac",
   "metadata": {},
   "outputs": [],
   "source": []
  }
 ],
 "metadata": {
  "kernelspec": {
   "display_name": "Python 3",
   "language": "python",
   "name": "python3"
  },
  "language_info": {
   "codemirror_mode": {
    "name": "ipython",
    "version": 3
   },
   "file_extension": ".py",
   "mimetype": "text/x-python",
   "name": "python",
   "nbconvert_exporter": "python",
   "pygments_lexer": "ipython3",
   "version": "3.8.10"
  }
 },
 "nbformat": 4,
 "nbformat_minor": 5
}
